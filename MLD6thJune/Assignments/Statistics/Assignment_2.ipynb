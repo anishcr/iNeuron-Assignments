{
 "cells": [
  {
   "cell_type": "code",
   "execution_count": 1,
   "metadata": {},
   "outputs": [],
   "source": [
    "import numpy as np\n",
    "from scipy import stats\n",
    "from scipy.stats import binom\n",
    "from scipy.stats import poisson\n",
    "from scipy.stats import t\n",
    "import collections\n",
    "import math"
   ]
  },
  {
   "cell_type": "markdown",
   "metadata": {},
   "source": [
    "# Problem Statement 1\n",
    "\n",
    "In each of the following situations, state whether it is a correctly stated hypothesis testing problem and why?\n",
    "1. H0: μ = 25, H1: μ ≠ 25\n",
    "2. H0: σ > 10, H1: σ = 10\n",
    "3. H0: x = 50, H1: x ≠ 50\n",
    "4. H0: p = 0.1, H1: p = 0.5\n",
    "5. H0: s = 30, H1: s > 30"
   ]
  },
  {
   "cell_type": "markdown",
   "metadata": {},
   "source": [
    "## The three forms of Hypothesis tests are\n",
    "\n",
    "* Form 1 - Exact vs Inexact\n",
    "* Form 2 - At least vs Less than\n",
    "* Form 3 - At most vs Greater than\n",
    "\n",
    "|Form 1 - Exact vs Inexact|Form 2 - At least vs Less than|Form 3 - At most vs Greater than|\n",
    "|:-:|:-:|:-:|\n",
    "| $H _{0} : \\mu = \\mu _{0}$|$H _{0} : \\mu \\geq \\mu _{0}$ | $H _{0} : \\mu \\leq \\mu _{0}$|\n",
    "| $H _{A} : \\mu \\neq  \\mu _{0}$|$H _{A} : \\mu < \\mu _{0}$ | $H _{A} : \\mu > \\mu _{0}$|"
   ]
  },
  {
   "cell_type": "markdown",
   "metadata": {},
   "source": [
    "### H0: μ = 25, H1: μ ≠ 25\n",
    "\n",
    "This is a **Valid Hypothesis** of type Form 1"
   ]
  },
  {
   "cell_type": "markdown",
   "metadata": {},
   "source": [
    "### H0: σ > 10, H1: σ = 10\n",
    "\n",
    "The alternate hypothesis can never be $ = $, so this is **not a valid hypothesis**"
   ]
  },
  {
   "cell_type": "markdown",
   "metadata": {},
   "source": [
    "### H0: x = 50, H1: x ≠ 50\n",
    "This is a **valid Hypothesis** of type Form 1"
   ]
  },
  {
   "cell_type": "markdown",
   "metadata": {},
   "source": [
    "### H0: p = 0.1, H1: p = 0.5\n",
    "\n",
    "The alternate hypothesis can never be  = , so this is **not a valid hypothesis**"
   ]
  },
  {
   "cell_type": "markdown",
   "metadata": {},
   "source": [
    "### H0: s = 30, H1: s > 30\n",
    "\n",
    "If the Null hypothesis is $=$, the alternate hypothesis should be $\\ne$, so this is **not a valid hypothesis**\n",
    "\n",
    "The other option for a valid hypothesis is that H0: s $\\leq$ 30, H1: s > 30\n"
   ]
  },
  {
   "cell_type": "markdown",
   "metadata": {},
   "source": [
    "***\n",
    "***\n",
    "\n",
    "# Problem Statement 2\n",
    "The college bookstore tells prospective students that the average cost of its textbooks is Rs. 52 with a standard deviation of Rs. 4.50. \n",
    "\n",
    "A group of smart statistics students thinks that the average cost is higher. \n",
    "\n",
    "To test the bookstore’s claim against their alternative, the students will select a random sample of size 100. \n",
    "\n",
    "Assume that the mean from their random sample is Rs. 52.80. \n",
    "\n",
    "Perform a hypothesis test at the 5% level of significance and state your decision."
   ]
  },
  {
   "cell_type": "markdown",
   "metadata": {},
   "source": [
    "### Hypothesis \n",
    "H0: μ $\\leq$ 52\n",
    "\n",
    "H1: μ $>$ 52\n",
    "\n",
    "### Significance level\n",
    "Significance Level = 5%\n",
    "\n",
    "### Test Statics\n",
    "$\\mu = 52$\n",
    "\n",
    "$\\sigma = 4.50$\n",
    "\n",
    "n = 100\n",
    "\n",
    "$\\bar {x}$ = 52.80"
   ]
  },
  {
   "cell_type": "code",
   "execution_count": 2,
   "metadata": {},
   "outputs": [
    {
     "name": "stdout",
     "output_type": "stream",
     "text": [
      "P(Z > 1.7777777777777715) = 0.0377201798134007\n"
     ]
    }
   ],
   "source": [
    "z = (52.80 - 52)/ (4.5 / 10)\n",
    "\n",
    "print(f\"P(Z > {z}) = {1 - stats.norm.cdf(z)}\")"
   ]
  },
  {
   "cell_type": "markdown",
   "metadata": {},
   "source": [
    "This is an upper tailed z test. Since 0.0377 is less than 0.05, **we reject the Null Hypothesis.**"
   ]
  },
  {
   "cell_type": "markdown",
   "metadata": {},
   "source": [
    "***\n",
    "***\n",
    "\n",
    "# Problem Statement 3\n",
    "A certain chemical pollutant in the Genesee River has been constant for several years with mean μ = 34 ppm (parts per million) and standard deviation σ = 8 ppm. \n",
    "\n",
    "A group of factory representatives whose companies discharge liquids into the river is now claiming that they have lowered the average with improved filtration devices. \n",
    "\n",
    "A group of environmentalists will test to see if this is true at the 1% level of significance. \n",
    "\n",
    "Assume that their sample of size 50 gives a mean of 32.5 ppm.\n",
    "\n",
    "Perform a hypothesis test at the 1% level of significance and state your decision."
   ]
  },
  {
   "cell_type": "markdown",
   "metadata": {},
   "source": [
    "### Hypothesis \n",
    "H0: μ $\\geq$ 34\n",
    "\n",
    "H1: μ $<$ 34\n",
    "\n",
    "### Significance level\n",
    "Significance Level = 1%\n",
    "\n",
    "### Test Statics\n",
    "$\\mu = 34$\n",
    "\n",
    "$\\sigma = 8$\n",
    "\n",
    "n = 50\n",
    "\n",
    "$\\bar {x}$ = 32.50"
   ]
  },
  {
   "cell_type": "code",
   "execution_count": 3,
   "metadata": {},
   "outputs": [
    {
     "name": "stdout",
     "output_type": "stream",
     "text": [
      "P(Z < -1.3258252147247767) = 0.0924487994828001\n"
     ]
    }
   ],
   "source": [
    "z = (32.5 - 34)/ (8 / (50 ** 0.5))\n",
    "\n",
    "print(f\"P(Z < {z}) = {stats.norm.cdf(z)}\")"
   ]
  },
  {
   "cell_type": "markdown",
   "metadata": {},
   "source": [
    "This is a lower tailed z test. Since 0.0924 is greater than 0.01, **we do not reject the Null Hypothesis.**"
   ]
  },
  {
   "cell_type": "markdown",
   "metadata": {},
   "source": [
    "***\n",
    "***\n",
    "\n",
    "# Problem Statement 4\n",
    "Based on population figures and other general information on the U.S. population, suppose it has been estimated that, on average, a family of four in the U.S. spends about $1135 annually on dental expenditures. \n",
    "\n",
    "Suppose further that a regional dental association wants to test to determine if this figure is accurate for their area of country. \n",
    "\n",
    "To test this, 22 families of 4 are randomly selected from the population in that area of the country and a log is kept of the family’s dental expenditure for one year. \n",
    "\n",
    "The resulting data are given below. Assuming, that dental expenditure is normally distributed in the population, use the data and an alpha of 0.5 to test the dental association’s hypothesis.\n",
    "\n",
    "1008, 812, 1117, 1323, 1308, 1415, 831, 1021, 1287, 851, 930, 730, 699, 872, 913, 944, 954, 987, 1695, 995, 1003, 994"
   ]
  },
  {
   "cell_type": "markdown",
   "metadata": {},
   "source": [
    "### Hypothesis \n",
    "H0: μ = \\\\$1135\n",
    "\n",
    "H1: μ $\\neq$ \\\\$1135\n",
    "\n",
    "### Significance level\n",
    "Significance Level = 5%\n",
    "\n",
    "### Test Statics\n",
    "$\\mu = 1135$\n",
    "\n",
    "$\\sigma$ = Will use the sample variance as population variance\n",
    "\n",
    "n = 22\n",
    "\n",
    "$\\bar {x}$ = mean of (1008, 812, 1117, 1323, 1308, 1415, 831, 1021, 1287, 851, 930, 730, 699, 872, 913, 944, 954, 987, 1695, 995, 1003, 994)"
   ]
  },
  {
   "cell_type": "code",
   "execution_count": 4,
   "metadata": {},
   "outputs": [],
   "source": [
    "data = np.array([1008, 812, 1117, 1323, 1308, 1415, 831, 1021, 1287, 851, 930, 730, 699, 872, 913, 944, 954, 987, 1695, 995, 1003, 994])\n",
    "\n",
    "population_mean = 1135\n",
    "mean = np.mean(data)\n",
    "std_deviation = np.std(data, ddof=1)\n",
    "sample_size = 22\n",
    "df = sample_size - 1"
   ]
  },
  {
   "cell_type": "code",
   "execution_count": 5,
   "metadata": {},
   "outputs": [
    {
     "name": "stdout",
     "output_type": "stream",
     "text": [
      "t_score : -2.023137479931484\n"
     ]
    }
   ],
   "source": [
    "# We can assume this to be a large normally distributed population\n",
    "# Since the number of samples is 22 (which is less than 30) will use the t score instead of z score\n",
    "\n",
    "t_score = (mean - population_mean) * (sample_size ** 0.5) / std_deviation\n",
    "\n",
    "print(f\"t_score : {t_score}\")"
   ]
  },
  {
   "cell_type": "markdown",
   "metadata": {},
   "source": [
    "The Critical value of t is 2.080 (from t table, t$_{.975}$ and degree of freedom = 21)\n",
    "\n",
    "So we can accept the null hypothesis if -2.080 $\\geq$ t $\\leq$ 2.080\n",
    "\n",
    "Since t score is -2.023, it lies inside the critical region, so we **accept the Null Hypothesis**"
   ]
  },
  {
   "cell_type": "code",
   "execution_count": 6,
   "metadata": {},
   "outputs": [
    {
     "name": "stdout",
     "output_type": "stream",
     "text": [
      "p = 0.02798691597322925\n",
      "2 * p = 0.0559738319464585\n"
     ]
    }
   ],
   "source": [
    "p = stats.t.cdf(t_score, df=df)\n",
    "\n",
    "print(f\"p = {p}\")\n",
    "\n",
    "# Since this is a two tailed test, the probability is\n",
    "\n",
    "print(f\"2 * p = {2 * p}\")"
   ]
  },
  {
   "cell_type": "markdown",
   "metadata": {},
   "source": [
    "So the probability is 0.0559, which is greater than 0.05, so **we accept the Null Hypothesis**"
   ]
  },
  {
   "cell_type": "markdown",
   "metadata": {},
   "source": [
    "***\n",
    "***\n",
    "\n",
    "# Problem Statement 5\n",
    "In a report prepared by the Economic Research Department of a major bank the Department manager maintains that the average annual family income on Metropolis is $48,432. \n",
    "\n",
    "What do you conclude about the validity of the report if a random sample of 400 families shows and average income of $48,574 with a standard deviation of 2000?"
   ]
  },
  {
   "cell_type": "markdown",
   "metadata": {},
   "source": [
    "### Hypothesis \n",
    "H0: μ = \\\\$48432\n",
    "\n",
    "H1: μ $\\neq$ \\\\$48432\n",
    "\n",
    "### Significance level\n",
    "Significance Level = 5%\n",
    "\n",
    "### Test Statics\n",
    "\n",
    "$\\mu$ = 48432\n",
    "\n",
    "S = 2000\n",
    "\n",
    "n = 400\n",
    "\n",
    "$\\bar {x}$ = 48574"
   ]
  },
  {
   "cell_type": "code",
   "execution_count": 7,
   "metadata": {},
   "outputs": [
    {
     "name": "stdout",
     "output_type": "stream",
     "text": [
      "z score = 1.42\n"
     ]
    }
   ],
   "source": [
    "mu = 48432\n",
    "s = 2000\n",
    "n = 400\n",
    "x = 48574\n",
    "\n",
    "z = (x - mu) * (n ** 0.5) / s\n",
    "\n",
    "print(f\"z score = {z}\")"
   ]
  },
  {
   "cell_type": "markdown",
   "metadata": {},
   "source": [
    "We are using a significance level of 5%, since it is a two tailed test,\n",
    "\n",
    "-1.96 <= z <= +1.96 so that we can reject the Alternate Hypothesis\n",
    "\n",
    "Since z = 1.42, **we cannot reject the Null Hypothesis**"
   ]
  },
  {
   "cell_type": "markdown",
   "metadata": {},
   "source": [
    "***\n",
    "***\n",
    "\n",
    "# Problem Statement 6\n",
    "Suppose that in past years the average price per square foot for warehouses in the United States has been \\\\$32.28. \n",
    "\n",
    "A national real estate investor wants to determine whether that figure has changed now. The investor hires a researcher who randomly samples 19 warehouses that are for sale across the United States and finds that the mean price per square foot is \\\\$31.67, with a standard deviation of \\\\$1.29. \n",
    "\n",
    "Assume that the prices of warehouse footage are normally distributed in population. \n",
    "\n",
    "If the researcher uses a 5% level of significance, what statistical conclusion can be reached? What are the hypotheses?"
   ]
  },
  {
   "cell_type": "code",
   "execution_count": 8,
   "metadata": {},
   "outputs": [
    {
     "ename": "SyntaxError",
     "evalue": "unexpected character after line continuation character (<ipython-input-8-84b35e3d8351>, line 2)",
     "output_type": "error",
     "traceback": [
      "\u001b[0;36m  File \u001b[0;32m\"<ipython-input-8-84b35e3d8351>\"\u001b[0;36m, line \u001b[0;32m2\u001b[0m\n\u001b[0;31m    H0: μ = \\\\$32.28\u001b[0m\n\u001b[0m                    ^\u001b[0m\n\u001b[0;31mSyntaxError\u001b[0m\u001b[0;31m:\u001b[0m unexpected character after line continuation character\n"
     ]
    }
   ],
   "source": [
    "### Hypothesis \n",
    "H0: μ = \\\\$32.28\n",
    "\n",
    "H1: μ $\\neq$ \\\\$32.28\n",
    "\n",
    "### Significance level\n",
    "Significance Level = 5%\n",
    "\n",
    "### Test Statics\n",
    "\n",
    "$\\mu$ = 32.28\n",
    "\n",
    "S = 1.29\n",
    "\n",
    "n = 19\n",
    "\n",
    "$\\bar {x}$ = 31.67"
   ]
  },
  {
   "cell_type": "code",
   "execution_count": null,
   "metadata": {},
   "outputs": [],
   "source": [
    "population_mean = 32.28\n",
    "x_bar = 31.67\n",
    "std_deviation = 1.29\n",
    "sample_size = 19\n",
    "df = sample_size - 1"
   ]
  },
  {
   "cell_type": "code",
   "execution_count": null,
   "metadata": {},
   "outputs": [],
   "source": [
    "# We can assume this to be a large normally distributed population\n",
    "# Since the number of samples is 19 (which is less than 30) will use the t score instead of z score\n",
    "\n",
    "t_score = (x_bar - population_mean) * (sample_size ** 0.5) / std_deviation\n",
    "\n",
    "print(f\"t_score : {t_score}\")"
   ]
  },
  {
   "cell_type": "markdown",
   "metadata": {},
   "source": [
    "The Critical value of t is 2.101 (from t table, t$_{.975}$ and degree of freedom = 18)\n",
    "\n",
    "So we can accept the null hypothesis if -2.101 $\\geq$ t $\\leq$ 2.101\n",
    "\n",
    "Since t score is -2.06, it lies inside the critical region, so we **accept the Null Hypothesis**"
   ]
  },
  {
   "cell_type": "code",
   "execution_count": null,
   "metadata": {},
   "outputs": [],
   "source": [
    "p = stats.t.cdf(t_score, df=df)\n",
    "\n",
    "print(f\"p = {p}\")\n",
    "\n",
    "# Since this is a two tailed test, the probability is\n",
    "\n",
    "print(f\"2 * p = {2 * p}\")"
   ]
  },
  {
   "cell_type": "markdown",
   "metadata": {},
   "source": [
    "So the probability is 0.0540, which is greater than 0.05, so we **accept the Null Hypothesis**"
   ]
  },
  {
   "cell_type": "markdown",
   "metadata": {},
   "source": [
    "***\n",
    "***\n",
    "\n",
    "# Problem Statement 7\n",
    "\n",
    "Fill in the blank spaces in the table and draw your conclusions from it.\n",
    "\n",
    "| Acceptance Region | Sample Size  |  $ \\alpha $ | $ \\beta $  at  $ \\mu $ = 52   | $ \\beta $  at  $ \\mu $ = 50.5 |\n",
    "|:--|:-:|:-:|:-:|:-:|\n",
    "|  48.5 < $ \\bar{x} $ < 51.5   |  10 |   |   |   |\n",
    "|  48 < $ \\bar{x} $ < 52       | 10  |   |   |   |\n",
    "|  48.81 < $ \\bar{x} $ < 51.9  |  16 |   |   |   |\n",
    "|  48.42 < $ \\bar{x} $ < 51.58 |  16 |   |   |   |\n",
    "\n"
   ]
  },
  {
   "cell_type": "code",
   "execution_count": 28,
   "metadata": {},
   "outputs": [],
   "source": [
    "## Assuming standard_deviation is 2.5 (from http://mx.nthu.edu.tw/~cghsu/courses/ps/note2015/11_HypoTestOneSample_Note.pdf)\n",
    "\n",
    "std_deviation = 2.5"
   ]
  },
  {
   "cell_type": "code",
   "execution_count": 30,
   "metadata": {},
   "outputs": [
    {
     "data": {
      "text/plain": [
       "0.05777957112359722"
      ]
     },
     "execution_count": 30,
     "metadata": {},
     "output_type": "execute_result"
    }
   ],
   "source": [
    "## alpha for acceptance region 48.5 < x < 51.5 with sample size 10\n",
    "\n",
    "mean = 50\n",
    "n = 10\n",
    "se = std_deviation / (n ** 0.5)\n",
    "\n",
    "# alpha = probability(x_bar < 48.5) + probability(x_bar > 51.5)\n",
    "\n",
    "z_lower = (48.5 - mean) / se\n",
    "z_upper = (51.5 - mean) / se\n",
    "\n",
    "alpha = stats.norm.cdf(z_lower) + 1 - stats.norm.cdf(z_upper)\n",
    "alpha"
   ]
  },
  {
   "cell_type": "code",
   "execution_count": 33,
   "metadata": {},
   "outputs": [
    {
     "data": {
      "text/plain": [
       "0.26353985497284643"
      ]
     },
     "execution_count": 33,
     "metadata": {},
     "output_type": "execute_result"
    }
   ],
   "source": [
    "## beta at mean = 52 for acceptance region 48.5 < x < 51.5 with sample size 10\n",
    "\n",
    "mean = 52\n",
    "n = 10\n",
    "se = std_deviation / (n ** 0.5)\n",
    "\n",
    "# alpha = probability(x_bar < 48.5) + probability(x_bar > 51.5)\n",
    "\n",
    "z_lower = (48.5 - mean) / se\n",
    "z_upper = (51.5 - mean) / se\n",
    "\n",
    "beta = stats.norm.cdf(z_upper) - stats.norm.cdf(z_lower)\n",
    "beta"
   ]
  },
  {
   "cell_type": "code",
   "execution_count": 41,
   "metadata": {},
   "outputs": [
    {
     "data": {
      "text/plain": [
       "0.8913423764409649"
      ]
     },
     "execution_count": 41,
     "metadata": {},
     "output_type": "execute_result"
    }
   ],
   "source": [
    "## beta at mean = 50.5 for acceptance region 48.5 < x < 51.5 with sample size 10\n",
    "\n",
    "mean = 50.5\n",
    "n = 10\n",
    "se = std_deviation / (n ** 0.5)\n",
    "\n",
    "# alpha = probability(x_bar < 48.5) + probability(x_bar > 51.5)\n",
    "\n",
    "z_lower = (48.5 - mean) / se\n",
    "z_upper = (51.5 - mean) / se\n",
    "\n",
    "beta = stats.norm.cdf(z_upper) - stats.norm.cdf(z_lower)\n",
    "beta"
   ]
  },
  {
   "cell_type": "markdown",
   "metadata": {},
   "source": [
    "\n",
    "### Final Solution with the table cells filled\n",
    "\n",
    "| Acceptance Region | Sample Size  |  $ \\alpha $ | $ \\beta $  at  $ \\mu $ = 52   | $ \\beta $  at  $ \\mu $ = 50.5 |\n",
    "|:--|:-:|:-:|:-:|:-:|\n",
    "|  48.5 < $ \\bar{x} $ < 51.5   |  10 | 0.0578  | 0.2643  | 0.8913  |\n",
    "|  48 < $ \\bar{x} $ < 52       | 10  |   |   |   |\n",
    "|  48.81 < $ \\bar{x} $ < 51.9  |  16 |   |   |   |\n",
    "|  48.42 < $ \\bar{x} $ < 51.58 |  16 |   |   |   |"
   ]
  },
  {
   "cell_type": "markdown",
   "metadata": {},
   "source": [
    "***\n",
    "***\n",
    "\n",
    "# Problem Statement 8\n",
    "Find the t-score for a sample size of 16 taken from a population with mean 10 when the sample mean is 12 and the sample standard deviation is 1.5."
   ]
  },
  {
   "cell_type": "code",
   "execution_count": null,
   "metadata": {},
   "outputs": [],
   "source": [
    "mean = 10\n",
    "sample_mean = 12\n",
    "sample_std_deviation = 1.5\n",
    "sample_size = 16\n",
    "\n",
    "t_score = (sample_mean - mean) * (sample_size ** 0.5) / sample_std_deviation\n",
    "\n",
    "print(f\"The t score is {t_score}\")"
   ]
  },
  {
   "cell_type": "markdown",
   "metadata": {},
   "source": [
    "***\n",
    "***\n",
    "\n",
    "# Problem Statement 9\n",
    "Find the t-score below which we can expect 99% of sample means will fall if samples of size 16 are taken from a normally distributed population."
   ]
  },
  {
   "cell_type": "markdown",
   "metadata": {},
   "source": [
    "### From t table\n",
    "\n",
    "From the t table, look at value of intersection of row df=15 and column $t_{.99}$ \n",
    "\n",
    "**The tscore below which we can expect 99% of sample means = 2.602**"
   ]
  },
  {
   "cell_type": "code",
   "execution_count": null,
   "metadata": {},
   "outputs": [],
   "source": [
    "# Using scipy\n",
    "\n",
    "print(f\"The tscore below which we can expect 99% of sample means = {stats.t.ppf(.99, 15)}\")"
   ]
  },
  {
   "cell_type": "markdown",
   "metadata": {},
   "source": [
    "***\n",
    "***\n",
    "\n",
    "# Problem Statement 10\n",
    "If a random sample of size 25 drawn from a normal population gives a mean of 60 and a standard deviation of 4, find the range of t-scores where we can expect to find the middle 95% of all sample means. Compute the probability that ($-t_{0.05} < t < t_{0.10}$)."
   ]
  },
  {
   "cell_type": "code",
   "execution_count": null,
   "metadata": {},
   "outputs": [],
   "source": [
    "mean = 60\n",
    "std_deviation = 4\n",
    "sample_size = 25\n",
    "\n",
    "print(\"95% of all sample means will lie between \"\\\n",
    "      f\"t = {stats.t.ppf(.025, sample_size - 1)} and t = {stats.t.ppf(.975, sample_size - 1)}\")"
   ]
  },
  {
   "cell_type": "markdown",
   "metadata": {},
   "source": [
    "***\n",
    "***\n",
    "**Compute the probability that ( $-t_{0.05} < t < t_{0.10}$ ).**\n",
    "\n",
    "$-t_{0.05}$, will take .05 of the area to the left\n",
    "$t_{0.10}$, will take .1 of the area to the right\n",
    "\n",
    "**So the probability that ( $-t_{0.05} < t < t_{0.10}$ ) = 1 - 0.05 - 0.1 = 0.85**"
   ]
  },
  {
   "cell_type": "markdown",
   "metadata": {},
   "source": [
    "***\n",
    "***\n",
    "\n",
    "# Problem Statement 11\n",
    "Two-tailed test for difference between two population means\n",
    "\n",
    "Is there evidence to conclude that the number of people travelling from Bangalore to Chennai is different from the number of people travelling from Bangalore to Hosur in a week, given the following:\n",
    "\n",
    "**Population 1: Bangalore to Chennai**\n",
    "\n",
    "n1 = 1200\n",
    "\n",
    "x1 = 452\n",
    "\n",
    "s1 = 212\n",
    "\n",
    "**Population 2: Bangalore to Hosur**\n",
    "\n",
    "n2 = 800\n",
    "\n",
    "x2 = 523\n",
    "\n",
    "s2 = 185"
   ]
  },
  {
   "cell_type": "markdown",
   "metadata": {},
   "source": [
    "***\n",
    "### Solution\n",
    "\n",
    "We will use the z test as n1 (1200) and n2 (800) are greater than 30.\n",
    "\n",
    "$H_{0} : \\mu_{1} = \\mu_{2} $, ie. The number of people travelling from Bangalore to Chennai is **NOT different** from the number of people travelling from Bangalore to Hosur\n",
    "\n",
    "$H_{1} : \\mu_{1} \\neq \\mu_{2} $, ie.The number of people travelling from Bangalore to Chennai is **different** from the number of people travelling from Bangalore to Hosur\n",
    "\n",
    "It will be a two tailed test"
   ]
  },
  {
   "cell_type": "code",
   "execution_count": 17,
   "metadata": {},
   "outputs": [
    {
     "name": "stdout",
     "output_type": "stream",
     "text": [
      "z_score = -7.926428526759299\n"
     ]
    }
   ],
   "source": [
    "n1 = 1200\n",
    "x1 = 452\n",
    "s1 = 212\n",
    "\n",
    "n2 = 800\n",
    "x2 = 523\n",
    "s2 = 185\n",
    "\n",
    "standard_error = (((s1 ** 2) / n1) + ((s2 ** 2) / n2)) ** 0.5\n",
    "\n",
    "z_score = (x1 - x2) / standard_error\n",
    "\n",
    "print(f\"z_score = {z_score}\")"
   ]
  },
  {
   "cell_type": "markdown",
   "metadata": {},
   "source": [
    "If we take a significance level of 0.05, we will accept the Null Hypothesis, if\n",
    "\n",
    "0.025 <= P(z_score) <= 0.975\n",
    "\n",
    "Or\n",
    "\n",
    "-1.96 <= z_score <= 1.96\n",
    "\n",
    "Since z_score = -7.926, which is less than -1.96, we will **Reject the Null Hypothesis**"
   ]
  },
  {
   "cell_type": "markdown",
   "metadata": {},
   "source": [
    "***\n",
    "***\n",
    "\n",
    "# Problem Statement 12\n",
    "\n",
    "Is there evidence to conclude that the number of people preferring Duracell battery is different from the number of people preferring Energizer battery, given the following:\n",
    "\n",
    "**Population 1: Duracell**\n",
    "\n",
    "n1 = 100\n",
    "\n",
    "x1 = 308\n",
    "\n",
    "s1 = 84\n",
    "\n",
    "**Population 2: Energizer**\n",
    "\n",
    "n2 = 100\n",
    "\n",
    "x2 = 254\n",
    "\n",
    "s2 = 67"
   ]
  },
  {
   "cell_type": "markdown",
   "metadata": {},
   "source": [
    "***\n",
    "### Solution\n",
    "\n",
    "We will use the z test as n1 (100) and n2 (100) are greater than 30.\n",
    "\n",
    "$H_{0} : \\mu_{1} = \\mu_{2} $, ie. People do not prefer Duracell over Energizer Battery\n",
    "\n",
    "$H_{1} : \\mu_{1} \\neq \\mu_{2} $, ie. People do prefer Duracell over Energizer Battery\n",
    "\n",
    "It will be a two tailed test"
   ]
  },
  {
   "cell_type": "code",
   "execution_count": 18,
   "metadata": {},
   "outputs": [
    {
     "name": "stdout",
     "output_type": "stream",
     "text": [
      "z_score = 5.025702668336442\n"
     ]
    }
   ],
   "source": [
    "n1 = 100\n",
    "x1 = 308\n",
    "s1 = 84\n",
    "\n",
    "n2 = 100\n",
    "x2 = 254\n",
    "s2 = 67\n",
    "\n",
    "standard_error = (((s1 ** 2) / n1) + ((s2 ** 2) / n2)) ** 0.5\n",
    "\n",
    "z_score = (x1 - x2) / standard_error\n",
    "\n",
    "print(f\"z_score = {z_score}\")"
   ]
  },
  {
   "cell_type": "markdown",
   "metadata": {},
   "source": [
    "If we take a significance level of 0.05, we will accept the Null Hypothesis, if\n",
    "\n",
    "0.025 <= P(z_score) <= 0.975\n",
    "\n",
    "Or\n",
    "\n",
    "-1.96 <= z_score <= 1.96\n",
    "\n",
    "Since z_score = 5.0257, which is greater than 1.96, we will **Reject the Null Hypothesis**"
   ]
  },
  {
   "cell_type": "markdown",
   "metadata": {},
   "source": [
    "***\n",
    "***\n",
    "\n",
    "# Problem Statement 13\n",
    "Pooled estimate of the population variance\n",
    "\n",
    "Does the data provide sufficient evidence to conclude that average percentage increase in the price of sugar differs when it is sold at two different prices?\n",
    "\n",
    "\n",
    "**Population 1: Price of sugar = Rs. 27.50**\n",
    "\n",
    "n1 = 14\n",
    "\n",
    "x1 = 0.317%\n",
    "\n",
    "s1 = 0.12%\n",
    "\n",
    "**Population 2: Price of sugar = Rs. 20.00**\n",
    "\n",
    "n2 = 9\n",
    "\n",
    "x2 = 0.21%\n",
    "\n",
    "s2 = 0.11%"
   ]
  },
  {
   "cell_type": "markdown",
   "metadata": {},
   "source": [
    "***\n",
    "### Solution\n",
    "\n",
    "We will use the t test as n1 (14) and n2 (9) are less than 30.\n",
    "\n",
    "$H_{0} : \\mu_{1} = \\mu_{2} $\n",
    "\n",
    "$H_{1} : \\mu_{1} \\neq \\mu_{2} $\n",
    "\n",
    "It will be a two tailed test"
   ]
  },
  {
   "cell_type": "code",
   "execution_count": 24,
   "metadata": {},
   "outputs": [
    {
     "data": {
      "text/plain": [
       "2.15355322387416"
      ]
     },
     "execution_count": 24,
     "metadata": {},
     "output_type": "execute_result"
    }
   ],
   "source": [
    "n1 = 14\n",
    "x1 = 0.317\n",
    "s1 = 0.12\n",
    "\n",
    "n2 = 9\n",
    "x2 = 0.21\n",
    "s2 = 0.11\n",
    "\n",
    "pooled_variance = (((n1 - 1) * (s1 ** 2)) + ((n2 - 1) * (s2 ** 2))) / (n1 + n2 - 2)\n",
    "\n",
    "n12 = (1 / n1) + (1 / n2)\n",
    "\n",
    "t_score = (x1 - x2) / ((pooled_variance * n12) ** 0.5)\n",
    "\n",
    "t_score"
   ]
  },
  {
   "cell_type": "markdown",
   "metadata": {},
   "source": [
    "If we take a 0.05 significance level, looking at t table, for df = 21, t = 2.080\n",
    "\n",
    "Since the calculated t is 2.1534, more than the critical t (= 2.080), **we reject the Null Hypothesis**"
   ]
  },
  {
   "cell_type": "markdown",
   "metadata": {},
   "source": [
    "***\n",
    "***\n",
    "\n",
    "# Problem Statement 14\n",
    "The manufacturers of compact disk players want to test whether a small price reduction is enough to increase sales of their product. \n",
    "\n",
    "Is there evidence that the small price reduction is enough to increase sales of compact disk players?\n",
    "\n",
    "\n",
    "**Population 1: Before reduction**\n",
    "\n",
    "n1 = 15\n",
    "\n",
    "x1 = Rs. 6598\n",
    "\n",
    "s1 = Rs. 844\n",
    "\n",
    "**Population 2: After reduction**\n",
    "\n",
    "n2 = 12\n",
    "\n",
    "x2 = RS. 6870\n",
    "\n",
    "s2 = Rs. 669"
   ]
  },
  {
   "cell_type": "markdown",
   "metadata": {},
   "source": [
    "***\n",
    "### Solution\n",
    "\n",
    "We will use the t test as n1 (15) and n2 (12) are less than 30.\n",
    "\n",
    "$H_{0} : \\mu_{1} \\geq \\mu_{2} $\n",
    "\n",
    "$H_{1} : \\mu_{1} < \\mu_{2} $\n",
    "\n",
    "It will be a upper tailed test"
   ]
  },
  {
   "cell_type": "code",
   "execution_count": 26,
   "metadata": {},
   "outputs": [
    {
     "data": {
      "text/plain": [
       "0.9098300343990461"
      ]
     },
     "execution_count": 26,
     "metadata": {},
     "output_type": "execute_result"
    }
   ],
   "source": [
    "n1 = 15\n",
    "x1 = 6598\n",
    "s1 = 844\n",
    "\n",
    "n2 = 12\n",
    "x2 = 6870\n",
    "s2 = 669\n",
    "\n",
    "pooled_variance = (((n1 - 1) * (s1 ** 2)) + ((n2 - 1) * (s2 ** 2))) / (n1 + n2 - 2)\n",
    "\n",
    "n12 = (1 / n1) + (1 / n2)\n",
    "\n",
    "t_score = (x2 - x1) / ((pooled_variance * n12) ** 0.5)\n",
    "\n",
    "t_score"
   ]
  },
  {
   "cell_type": "markdown",
   "metadata": {},
   "source": [
    "If we take a 0.05 significance level, looking at t table, for df = 25, t = 1.708\n",
    "\n",
    "Since the calculated t is 0.909, less than the critical t (= 1.708), **we cannot reject the Null Hypothesis**"
   ]
  },
  {
   "cell_type": "markdown",
   "metadata": {},
   "source": [
    "***\n",
    "***\n",
    "\n",
    "# Problem Statement 15\n",
    "Comparisons of two population proportions when the hypothesized difference is zero\n",
    "\n",
    "Carry out a two-tailed test of the equality of banks’ share of the car loan market in 1980 and 1995.\n",
    "\n",
    "**Population 1: 1980**\n",
    "\n",
    "n1 = 1000\n",
    "\n",
    "x1 = 53\n",
    "\n",
    "$\\hat{p}$1 = 0.53\n",
    "\n",
    "**Population 2: 1985**\n",
    "\n",
    "n2 = 100\n",
    "\n",
    "x2 = 43\n",
    "\n",
    "$\\hat{p}$2= 0.53"
   ]
  },
  {
   "cell_type": "code",
   "execution_count": null,
   "metadata": {},
   "outputs": [],
   "source": []
  },
  {
   "cell_type": "markdown",
   "metadata": {},
   "source": [
    "***\n",
    "***\n",
    "\n",
    "# Problem Statement 16\n",
    "Carry out a one-tailed test to determine whether the population proportion of traveler’s check buyers who buy at least $2500 in checks when sweepstakes prizes are offered as at least 10% higher than the proportion of such buyers when no sweepstakes are on.\n",
    "\n",
    "\n",
    "**Population 1: With sweepstakes**\n",
    "\n",
    "n1 = 300\n",
    "\n",
    "x1 = 120\n",
    "\n",
    "$\\hat{p}$1 = 0.40\n",
    "\n",
    "**Population 2: No sweepstakes**\n",
    "\n",
    "n2 = 700\n",
    "\n",
    "x2 = 140\n",
    "\n",
    "$\\hat{p}$2= 0.20"
   ]
  },
  {
   "cell_type": "code",
   "execution_count": null,
   "metadata": {},
   "outputs": [],
   "source": []
  },
  {
   "cell_type": "markdown",
   "metadata": {},
   "source": [
    "***\n",
    "***\n",
    "\n",
    "# Problem Statement 17\n",
    "A die is thrown 132 times with the following results:\n",
    "\n",
    "|   |   |   |   |   |  |   |\n",
    "|:--|:--|:--|:--|:--|:--|:--|\n",
    "|Number turned up: | 1| 2| 3| 4| 5| 6|\n",
    "|Frequency: | 16| 20| 25| 14| 29| 28|\n",
    "\n",
    "Is the die unbiased? Consider the degrees of freedom as $\\hat{p} - 1$."
   ]
  },
  {
   "cell_type": "code",
   "execution_count": null,
   "metadata": {},
   "outputs": [],
   "source": []
  },
  {
   "cell_type": "markdown",
   "metadata": {},
   "source": [
    "***\n",
    "***\n",
    "\n",
    "# Problem Statement 18\n",
    "In a certain town, there are about one million eligible voters. A simple random sample of 10,000 eligible voters was chosen to study the relationship between gender and participation in the last election. \n",
    "\n",
    "The results are summarized in the following 2X2 (read two by two) contingency table:\n",
    "\n",
    "| | Men | Women |\n",
    "|--|:--:|:--:|\n",
    "|voted|2792|3591|\n",
    "|not voted|1486|2131|\n",
    "\n",
    "\n",
    "We would want to check whether being a man or a woman (columns) is independent of having voted in the last election (rows). \n",
    "\n",
    "In other words, is “gender and voting independent”?"
   ]
  },
  {
   "cell_type": "code",
   "execution_count": null,
   "metadata": {},
   "outputs": [],
   "source": []
  },
  {
   "cell_type": "markdown",
   "metadata": {},
   "source": [
    "***\n",
    "***\n",
    "\n",
    "# Problem Statement 19\n",
    "A sample of 100 voters are asked which of four candidates they would vote for in an election. The number supporting each candidate is given below:\n",
    "\n",
    "|Higgins|Reardon|White|Charlton|\n",
    "|:-:|:-:|:-:|:-:|\n",
    "|41|19|24|16|\n",
    "\n",
    "Do the data suggest that all candidates are equally popular? [Chi-Square = 14.96, with 3 df, $\\hat{p}$ < 0.05]."
   ]
  },
  {
   "cell_type": "code",
   "execution_count": null,
   "metadata": {},
   "outputs": [],
   "source": []
  },
  {
   "cell_type": "markdown",
   "metadata": {},
   "source": [
    "***\n",
    "***\n",
    "\n",
    "# Problem Statement 20\n",
    "Children of three ages are asked to indicate their preference for three photographs of adults. Do the data suggest that there is a significant relationship between age and photograph preference? \n",
    "\n",
    "<table>\n",
    "    <thead>\n",
    "        <tr>\n",
    "            <th rowspan=2 colspan=2></th>\n",
    "            <th colspan=3>Photograph</th>\n",
    "        </tr>\n",
    "        <tr>\n",
    "            <th>A</th>\n",
    "            <th>B</th>\n",
    "            <th>C</th>\n",
    "        </tr>\n",
    "    </thead>\n",
    "    <tbody>\n",
    "        <tr>\n",
    "            <td rowspan=3>Age of Child</td>\n",
    "            <td>5-6 years</td> \n",
    "            <td>18</td> \n",
    "            <td>22</td> \n",
    "            <td>20</td>\n",
    "        </tr>\n",
    "        <tr>\n",
    "            <td>7-8 years</td> \n",
    "            <td>2</td> \n",
    "            <td>28</td> \n",
    "            <td>40</td>\n",
    "        </tr>\n",
    "        <tr>\n",
    "            <td>9-10 years</td> \n",
    "            <td>20</td> \n",
    "            <td>10</td> \n",
    "            <td>40</td>\n",
    "        </tr>\n",
    "    </tbody>\n",
    "</table>\n",
    "\n",
    "What is wrong with this study? [Chi-Square = 29.6, with 4 df: $\\hat{p}$ < 0.05].\n"
   ]
  },
  {
   "cell_type": "markdown",
   "metadata": {},
   "source": [
    "***\n",
    "***\n",
    "\n",
    "# Problem Statement 21\n",
    "A study of conformity using the Asch paradigm involved two conditions: one where one confederate supported the true judgement and another where no confederate gave the correct response.\n",
    "\n",
    "| | Support | No Support|\n",
    "|:--|:--:|:--:|\n",
    "|Conform|18|40|\n",
    "|Not conform|32|10|\n",
    "\n",
    "Is there a significant difference between the \"support\" and \"no support\" conditions in the frequency with which individuals are likely to conform? [Chi-Square = 19.87, with 1 df: $\\hat{p}$  < 0.05]."
   ]
  },
  {
   "cell_type": "code",
   "execution_count": null,
   "metadata": {},
   "outputs": [],
   "source": []
  },
  {
   "cell_type": "markdown",
   "metadata": {},
   "source": [
    "***\n",
    "***\n",
    "\n",
    "# Problem Statement 22\n",
    "\n",
    "We want to test whether short people differ with respect to their leadership qualities (Genghis Khan, Adolf Hitler and Napoleon were all stature-deprived, and how many midget MP's are there?) The following table shows the frequencies with which 43 short people and 52 tall people were categorized as \"leaders\", \"followers\" or as \"unclassifiable\". \n",
    "\n",
    "Is there a relationship between height and leadership qualities?\n",
    "\n",
    "\n",
    "[Chi-Square = 10.71, with 2 df: $\\hat{p}$ < 0.01].\n",
    "\n",
    "<table>\n",
    "    <thead>\n",
    "        <tr>\n",
    "            <th rowspan=2 colspan=></th>\n",
    "            <th colspan=2>Height</th>\n",
    "        </tr>\n",
    "        <tr>\n",
    "            <th>Short</th>\n",
    "            <th>Tall</th>\n",
    "        </tr>\n",
    "    </thead>\n",
    "    <tbody>\n",
    "        <tr>\n",
    "            <td>Leader</td> \n",
    "            <td>12</td> \n",
    "            <td>32</td>\n",
    "        </tr>\n",
    "        <tr>\n",
    "            <td>Follower</td> \n",
    "            <td>22</td> \n",
    "            <td>14</td> \n",
    "        </tr>\n",
    "        <tr>\n",
    "            <td>Unclassifiable</td> \n",
    "            <td>9</td> \n",
    "            <td>6</td>\n",
    "        </tr>\n",
    "    </tbody>\n",
    "</table>"
   ]
  },
  {
   "cell_type": "code",
   "execution_count": null,
   "metadata": {},
   "outputs": [],
   "source": []
  },
  {
   "cell_type": "markdown",
   "metadata": {},
   "source": [
    "***\n",
    "***\n",
    "\n",
    "# Problem Statement 23\n",
    "\n",
    "Each respondent in the Current Population Survey of March 1993 was classified as employed, unemployed, or outside the labor force. The results for men in California age 35-44 can be cross-tabulated by marital status, as follows:\n",
    "\n",
    "|  | Married | Widowed, Divorced or Separated | Never Married|\n",
    "|:-|:--|:--|:--|\n",
    "|Employed|679|103|114|\n",
    "|Unemployed|63|10|20|\n",
    "|Not in labor force|42|18|25|\n",
    "\n",
    "Men of different marital status seem to have different distributions of labor force status. Or is this just chance variation? (you may assume the table results from a simple random sample.)"
   ]
  },
  {
   "cell_type": "code",
   "execution_count": null,
   "metadata": {},
   "outputs": [],
   "source": []
  }
 ],
 "metadata": {
  "kernelspec": {
   "display_name": "Python 3",
   "language": "python",
   "name": "python3"
  },
  "language_info": {
   "codemirror_mode": {
    "name": "ipython",
    "version": 3
   },
   "file_extension": ".py",
   "mimetype": "text/x-python",
   "name": "python",
   "nbconvert_exporter": "python",
   "pygments_lexer": "ipython3",
   "version": "3.7.7"
  }
 },
 "nbformat": 4,
 "nbformat_minor": 4
}
