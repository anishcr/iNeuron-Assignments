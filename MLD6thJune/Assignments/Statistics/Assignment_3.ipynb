{
 "cells": [
  {
   "cell_type": "code",
   "execution_count": 1,
   "metadata": {},
   "outputs": [],
   "source": [
    "from scipy import stats"
   ]
  },
  {
   "cell_type": "markdown",
   "metadata": {},
   "source": [
    "### Problem Statement 1:\n",
    "\n",
    "Blood glucose levels for obese patients have a mean of 100 with a standard deviation of 15. A researcher thinks that a diet high in raw cornstarch will have a positive effect on blood glucose levels. \n",
    "\n",
    "A sample of 36 patients who have tried the raw cornstarch diet have a mean glucose level of 108.\n",
    "\n",
    "Test the hypothesis that the raw cornstarch had an effect or not."
   ]
  },
  {
   "cell_type": "markdown",
   "metadata": {},
   "source": [
    "### Solution\n",
    "\n",
    "Hypothesis\n",
    "\n",
    "$H_{0}: \\mu \\leq 100$, a diet high in raw corn starch will not have an effect on blood glucose level\n",
    "\n",
    "$H_{1}: \\mu > 100$ , a diet high in raw corn starch will have a positive effect on blood glucose level\n",
    "\n",
    "Significance level : 5%"
   ]
  },
  {
   "cell_type": "code",
   "execution_count": 2,
   "metadata": {},
   "outputs": [
    {
     "data": {
      "text/plain": [
       "3.2"
      ]
     },
     "execution_count": 2,
     "metadata": {},
     "output_type": "execute_result"
    }
   ],
   "source": [
    "z_score = (108 - 100) * (36 ** 0.5) / 15\n",
    "\n",
    "z_score"
   ]
  },
  {
   "cell_type": "markdown",
   "metadata": {},
   "source": [
    "The critical z score for a probability of 95% is 1.65.\n",
    "\n",
    "Since z score of 3.2 is greater that 1.65, **we reject the null hypothesis**"
   ]
  },
  {
   "cell_type": "markdown",
   "metadata": {},
   "source": [
    "### Problem Statement 2:\n",
    "In one state, 52% of the voters are Republicans, and 48% are Democrats. \n",
    "\n",
    "In a second state, 47% of the voters are Republicans, and 53% are Democrats. \n",
    "\n",
    "Suppose a simple random sample of 100 voters are surveyed from each state.\n",
    "\n",
    "What is the probability that the survey will show a greater percentage of Republican voters in the second state than in the first state?"
   ]
  },
  {
   "cell_type": "code",
   "execution_count": 3,
   "metadata": {},
   "outputs": [
    {
     "name": "stdout",
     "output_type": "stream",
     "text": [
      "The probability that the survey will show a greater percentage of Republican voters in the second state than in the first state 23.946399182220013 %\n"
     ]
    }
   ],
   "source": [
    "n1 = 100\n",
    "p1 = .52\n",
    "\n",
    "n2 = 100\n",
    "p2 = .47\n",
    "\n",
    "#since n1*p1, n1 * (1-p1), n2 * p2, n2 * (1 - p2) all are above 5, we can use z test\n",
    "\n",
    "mean_diff = p1 - p2\n",
    "\n",
    "sd = ((p1 * (1 - p1) / n1) + (p2 * (1 - p2) / n2)) ** 0.5\n",
    "\n",
    "z_score = (0 - mean_diff) / sd\n",
    "\n",
    "print(f\"The probability that the survey will show a greater percentage of Republican voters\" +\n",
    "      f\" in the second state than in the first state {stats.norm.cdf(z_score) * 100} %\")"
   ]
  },
  {
   "cell_type": "markdown",
   "metadata": {},
   "source": [
    "### Problem Statement 3:\n",
    "\n",
    "You take the SAT and score 1100. \n",
    "\n",
    "The mean score for the SAT is 1026 and the standard deviation is 209. \n",
    "\n",
    "How well did you score on the test compared to the average test taker?"
   ]
  },
  {
   "cell_type": "code",
   "execution_count": 4,
   "metadata": {},
   "outputs": [
    {
     "data": {
      "text/plain": [
       "0.6383556584353189"
      ]
     },
     "execution_count": 4,
     "metadata": {},
     "output_type": "execute_result"
    }
   ],
   "source": [
    "z_score = (1100 - 1026) / 209\n",
    "\n",
    "stats.norm.cdf(z_score)"
   ]
  },
  {
   "cell_type": "markdown",
   "metadata": {},
   "source": [
    "Therefore 63.83% of test takers scored below you."
   ]
  }
 ],
 "metadata": {
  "kernelspec": {
   "display_name": "Python 3",
   "language": "python",
   "name": "python3"
  },
  "language_info": {
   "codemirror_mode": {
    "name": "ipython",
    "version": 3
   },
   "file_extension": ".py",
   "mimetype": "text/x-python",
   "name": "python",
   "nbconvert_exporter": "python",
   "pygments_lexer": "ipython3",
   "version": "3.7.7"
  }
 },
 "nbformat": 4,
 "nbformat_minor": 4
}
