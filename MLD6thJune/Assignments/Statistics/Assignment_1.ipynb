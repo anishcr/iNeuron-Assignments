{
 "cells": [
  {
   "cell_type": "markdown",
   "metadata": {},
   "source": [
    "# Statistics Assignment 1"
   ]
  },
  {
   "cell_type": "code",
   "execution_count": 1,
   "metadata": {},
   "outputs": [],
   "source": [
    "import numpy as np\n",
    "from scipy import stats\n",
    "from scipy.stats import binom\n",
    "from scipy.stats import poisson\n",
    "import collections\n",
    "import math\n",
    "import seaborn as sns\n",
    "import numpy as np"
   ]
  },
  {
   "cell_type": "code",
   "execution_count": 2,
   "metadata": {},
   "outputs": [
    {
     "data": {
      "text/html": [
       "<style>\n",
       "    /* Jupyter */\n",
       "    .rendered_html table,\n",
       "    /* Jupyter Lab*/\n",
       "    div[data-mime-type=\"text-markdown\"] table {\n",
       "        margin-left: 0\n",
       "    }\n",
       "</style>\n"
      ],
      "text/plain": [
       "<IPython.core.display.HTML object>"
      ]
     },
     "metadata": {},
     "output_type": "display_data"
    }
   ],
   "source": [
    "%%html\n",
    "<style>\n",
    "    /* Jupyter */\n",
    "    .rendered_html table,\n",
    "    /* Jupyter Lab*/\n",
    "    div[data-mime-type=\"text-markdown\"] table {\n",
    "        margin-left: 0\n",
    "    }\n",
    "</style>"
   ]
  },
  {
   "cell_type": "markdown",
   "metadata": {},
   "source": [
    "# Common Function Definitions"
   ]
  },
  {
   "cell_type": "code",
   "execution_count": 3,
   "metadata": {},
   "outputs": [],
   "source": [
    "def get_mean(arr) :\n",
    "    return sum(arr) / len(arr)"
   ]
  },
  {
   "cell_type": "code",
   "execution_count": 4,
   "metadata": {},
   "outputs": [],
   "source": [
    "def get_median(arr) :\n",
    "    sorted_arr = sorted(arr)\n",
    "    \n",
    "    num_data = len(sorted_arr)\n",
    "    \n",
    "    if num_data % 2 == 0 :\n",
    "        index = num_data // 2\n",
    "        return (sorted_arr[index] + sorted_arr[index -1]) / 2\n",
    "\n",
    "    return sorted_arr[num_data // 2]"
   ]
  },
  {
   "cell_type": "code",
   "execution_count": 5,
   "metadata": {},
   "outputs": [],
   "source": [
    "def get_mode(arr) :\n",
    "    data = collections.Counter(arr)\n",
    "    data_list = dict(data)\n",
    "    \n",
    "    max_value = max(list(data.values()))\n",
    "    \n",
    "    modes = [num for num, freq in data_list.items() if freq == max_value]\n",
    "    \n",
    "    if len(modes) == len(arr):\n",
    "        return []\n",
    "    \n",
    "    return modes"
   ]
  },
  {
   "cell_type": "code",
   "execution_count": 6,
   "metadata": {},
   "outputs": [],
   "source": [
    "def get_std_deviation(arr) :\n",
    "    mean = get_mean(arr)\n",
    "    \n",
    "    variance = sum([((x - mean) ** 2) for x in arr]) / len(arr)\n",
    "    \n",
    "    std_dev = variance ** 0.5\n",
    "    \n",
    "    return std_dev"
   ]
  },
  {
   "cell_type": "markdown",
   "metadata": {},
   "source": [
    "## Calculation of Expectation and Variance from a Probability Distribution Table\n",
    "\n",
    "#### Expectation is\n",
    "\n",
    "$ E[X] = \\sum _{x} xP(x) $\n",
    "\n",
    "\n",
    "#### Calculating Variance\n",
    "$ E[X ^{2} ] = \\sum _{x} x ^{2} P(x) $\n",
    "\n",
    "#### Option 1\n",
    "\n",
    "$ Var(X) = E[X ^{2}] - (E[X]) ^{2} $\n",
    "\n",
    "#### Option 2\n",
    "\n",
    "\n",
    "$ Var(X) = E[(X - \\mu)^{2}] $\n",
    "\n",
    "$ E[(X - \\mu) ^{2}] = \\sum _{x} (x - \\mu) ^{2} P(x)  $\n",
    "\n",
    "therefore\n",
    "\n",
    "$ Var(X) = \\sum _{x} (x - \\mu) ^{2} P(x)  $"
   ]
  },
  {
   "cell_type": "code",
   "execution_count": 7,
   "metadata": {},
   "outputs": [],
   "source": [
    "def get_expectation(values, probabilities) :\n",
    "    num_elems = len(values)\n",
    "    \n",
    "    assert(num_elems > 0)\n",
    "    assert(num_elems == len(probabilities))\n",
    "    assert(min(values) >= 0)\n",
    "    assert(min(probabilities) >= 0)\n",
    "    assert(sum(probabilities) == 1.0)\n",
    "    \n",
    "    mean = 0\n",
    "    \n",
    "    for i in range(num_elems):\n",
    "        mean = mean + (values[i] * probabilities[i])\n",
    "    \n",
    "    return mean"
   ]
  },
  {
   "cell_type": "code",
   "execution_count": 8,
   "metadata": {},
   "outputs": [],
   "source": [
    "def get_variance_1(values, probabilities) :\n",
    "    num_elems = len(values)\n",
    "    \n",
    "    mean_of_x = get_expectation(values, probabilities)\n",
    "    \n",
    "    values_square = [x * x for x in values]\n",
    "    \n",
    "    mean_of_x_square = get_expectation(values_square, probabilities)\n",
    "    \n",
    "    variance = mean_of_x_square - (mean_of_x ** 2)\n",
    "    \n",
    "    return variance\n",
    "\n",
    "def get_variance_2(values, probabilities) :\n",
    "    num_elems = len(values)\n",
    "    \n",
    "    mean = get_expectation(values, probabilities)\n",
    "    \n",
    "    variance = 0\n",
    "    \n",
    "    for i in range(num_elems):\n",
    "        variance = variance + (((values[i] - mean) ** 2) * probabilities[i])\n",
    "    \n",
    "    return variance"
   ]
  },
  {
   "cell_type": "code",
   "execution_count": 9,
   "metadata": {},
   "outputs": [],
   "source": [
    "def get_ncr(n, r) :\n",
    "    return math.factorial(n) / (math.factorial(r) * math.factorial(n-r))"
   ]
  },
  {
   "cell_type": "code",
   "execution_count": 10,
   "metadata": {},
   "outputs": [],
   "source": [
    "def binomial_probability(total_trials, num_success, prob) :\n",
    "    \n",
    "    # (total_trials) C (num_success) * (prob ^ num_success) ((1 - prob) ^ (total_trials - num_success))\n",
    "    \n",
    "    return (get_ncr(total_trials, num_success)) * (prob ** num_success) * ((1 - prob) ** (total_trials - num_success))"
   ]
  },
  {
   "cell_type": "code",
   "execution_count": 11,
   "metadata": {},
   "outputs": [],
   "source": [
    "def poisson_probability(mu, x) :\n",
    "    return (math.exp(-1 * mu) * (mu ** x)) / (math.factorial(x))"
   ]
  },
  {
   "cell_type": "markdown",
   "metadata": {},
   "source": [
    "***\n",
    "***\n",
    "***"
   ]
  },
  {
   "cell_type": "markdown",
   "metadata": {},
   "source": [
    "# Problem Statement 1:\n",
    "\n",
    "Calculate the mean, median, mode and standard deviation \n",
    "\n",
    "\n",
    "The marks awarded for an assignment set for a Year 8 class of 20 students were as follows:\n",
    "6 7 5 7 7 8 7 6 9 7 4 10 6 8 8 9 5 6 4 8"
   ]
  },
  {
   "cell_type": "code",
   "execution_count": 12,
   "metadata": {},
   "outputs": [
    {
     "data": {
      "text/plain": [
       "20"
      ]
     },
     "execution_count": 12,
     "metadata": {},
     "output_type": "execute_result"
    }
   ],
   "source": [
    "marks = [6, 7, 5, 7, 7, 8, 7, 6, 9, 7, 4, 10, 6, 8, 8, 9, 5, 6, 4, 8]\n",
    "\n",
    "len(marks)"
   ]
  },
  {
   "cell_type": "code",
   "execution_count": 13,
   "metadata": {},
   "outputs": [
    {
     "name": "stdout",
     "output_type": "stream",
     "text": [
      " mean    : 6.85\n",
      " median  : 7.0\n",
      " mode    : [7]\n",
      " std_dev : 1.5898113095584647\n"
     ]
    }
   ],
   "source": [
    "# Solution OPTION 1 - Using basic python\n",
    "\n",
    "mean    = get_mean(marks)\n",
    "median  = get_median(marks) \n",
    "mode    = get_mode(marks)\n",
    "std_dev = get_std_deviation(marks)\n",
    "\n",
    "print(f\" mean    : {mean}\\n median  : {median}\\n mode    : {mode}\\n std_dev : {std_dev}\")"
   ]
  },
  {
   "cell_type": "code",
   "execution_count": 14,
   "metadata": {},
   "outputs": [
    {
     "name": "stdout",
     "output_type": "stream",
     "text": [
      " mean    : 6.85\n",
      " median  : 7.0\n",
      " mode    : [7]\n",
      " std_dev : 1.5898113095584647\n"
     ]
    }
   ],
   "source": [
    "# Solution OPTION 2 - Using Numpy and Scipy\n",
    "\n",
    "mean    = np.mean(marks)\n",
    "median  = np.median(marks)\n",
    "mode    = stats.mode(marks)[0]\n",
    "std_dev = np.std(marks)\n",
    "\n",
    "print(f\" mean    : {mean}\\n median  : {median}\\n mode    : {mode}\\n std_dev : {std_dev}\")"
   ]
  },
  {
   "cell_type": "markdown",
   "metadata": {},
   "source": [
    "***\n",
    "***\n",
    "***"
   ]
  },
  {
   "cell_type": "markdown",
   "metadata": {},
   "source": [
    "# Problem Statement 2:\n",
    "\n",
    "Calculate the mean, median, mode and standard deviation for the problem\n",
    "\n",
    "The number of calls from motorists per day for roadside service was recorded for a\n",
    "particular month:\n",
    "28, 122, 217, 130, 120, 86, 80, 90, 140, 120, 70, 40, 145, 113, 90, 68, 174, 194, 170, 100, 75, 104, 97, 75,123, 100, 75, 104, 97, 75, 123, 100, 89, 120, 109"
   ]
  },
  {
   "cell_type": "code",
   "execution_count": 15,
   "metadata": {},
   "outputs": [
    {
     "data": {
      "text/plain": [
       "35"
      ]
     },
     "execution_count": 15,
     "metadata": {},
     "output_type": "execute_result"
    }
   ],
   "source": [
    "num_calls = [28, 122, 217, 130, 120, 86, 80, 90, 140, 120, 70, 40, 145, 113, 90, 68, 174, 194, 170, 100, 75, 104, 97, 75,123, 100, 75, 104, 97, 75, 123, 100, 89, 120, 109]\n",
    "\n",
    "len(num_calls)"
   ]
  },
  {
   "cell_type": "markdown",
   "metadata": {},
   "source": [
    "*** ERROR ***\n",
    "<h2 style=\"color:red;\">There are 35 entries.. a month can have at most 31 days</h2>"
   ]
  },
  {
   "cell_type": "code",
   "execution_count": 16,
   "metadata": {},
   "outputs": [
    {
     "name": "stdout",
     "output_type": "stream",
     "text": [
      " mean    : 107.51428571428572\n",
      " median  : 100\n",
      " mode    : [75]\n",
      " std_dev : 38.77287080168402\n"
     ]
    }
   ],
   "source": [
    "# Solution OPTION 1 - Using basic python\n",
    "\n",
    "mean    = get_mean(num_calls)\n",
    "median  = get_median(num_calls)\n",
    "mode    = get_mode(num_calls)\n",
    "std_dev = get_std_deviation(num_calls)\n",
    "\n",
    "print(f\" mean    : {mean}\\n median  : {median}\\n mode    : {mode}\\n std_dev : {std_dev}\")"
   ]
  },
  {
   "cell_type": "code",
   "execution_count": 17,
   "metadata": {},
   "outputs": [
    {
     "name": "stdout",
     "output_type": "stream",
     "text": [
      " mean    : 107.51428571428572\n",
      " median  : 100.0\n",
      " mode    : [75]\n",
      " std_dev : 38.77287080168403\n"
     ]
    }
   ],
   "source": [
    "# Solution OPTION 2 - Using Numpy and Scipy\n",
    "\n",
    "marks = [6, 7, 5, 7, 7, 8, 7, 6, 9, 7, 4, 10, 6, 8, 8, 9, 5, 6, 4, 8]\n",
    "\n",
    "mean    = np.mean(num_calls)\n",
    "median  = np.median(num_calls)\n",
    "mode    = stats.mode(num_calls)[0]\n",
    "std_dev = np.std(num_calls)\n",
    "\n",
    "print(f\" mean    : {mean}\\n median  : {median}\\n mode    : {mode}\\n std_dev : {std_dev}\")"
   ]
  },
  {
   "cell_type": "markdown",
   "metadata": {},
   "source": [
    "***\n",
    "***\n",
    "***"
   ]
  },
  {
   "cell_type": "markdown",
   "metadata": {},
   "source": [
    "# Problem Statement 3:\n",
    "\n",
    "The number of times I go to the gym in weekdays, are given below along with its\n",
    "associated probability:\n",
    "\n",
    "\n",
    "| X | 0 | 1 | 2 | 3 | 4 | 5 |\n",
    "| :- | --- | --- | --- | --- | --- | --- |\n",
    "| f(x) |  0.09 | 0.15 | 0.40 | 0.25 | 0.10 | 0.01 |\n",
    "\n",
    "\n",
    "Calculate the mean no. of workouts in a week. Also evaluate the variance involved in\n",
    "it."
   ]
  },
  {
   "cell_type": "code",
   "execution_count": 18,
   "metadata": {},
   "outputs": [],
   "source": [
    "values  = [0, 1, 2, 3, 4, 5]\n",
    "probabilities = [0.09, 0.15, 0.40, 0.25, 0.10, 0.01]"
   ]
  },
  {
   "cell_type": "code",
   "execution_count": 19,
   "metadata": {},
   "outputs": [
    {
     "name": "stdout",
     "output_type": "stream",
     "text": [
      "The mean number of workouts in a week : 2.15\n",
      "The variance is : 1.2275\n"
     ]
    }
   ],
   "source": [
    "# Solution Option 1 - Using basic python\n",
    "\n",
    "mean = get_expectation(values, probabilities)\n",
    "\n",
    "print(f\"The mean number of workouts in a week : {mean}\")\n",
    "\n",
    "variance1 = get_variance_1(values, probabilities)\n",
    "\n",
    "print(f\"The variance is : {variance1}\")\n",
    "\n",
    "variance2 = get_variance_2(values, probabilities)\n",
    "\n",
    "#print(f\"The variance is : {variance2}\")\n",
    "\n",
    "assert(variance1 == variance2)"
   ]
  },
  {
   "cell_type": "code",
   "execution_count": 20,
   "metadata": {},
   "outputs": [
    {
     "name": "stdout",
     "output_type": "stream",
     "text": [
      "The mean number of workouts in a week : 2.15\n",
      "The variance is : 1.2275\n"
     ]
    }
   ],
   "source": [
    "# Solution Option 2 - Using Scipy\n",
    "\n",
    "func = stats.rv_discrete(name='custm', values=(values, probabilities))\n",
    "\n",
    "mean = func.expect()\n",
    "\n",
    "print(f\"The mean number of workouts in a week : {mean}\")\n",
    "\n",
    "variance = func.var()\n",
    "\n",
    "print(f\"The variance is : {variance}\")"
   ]
  },
  {
   "cell_type": "markdown",
   "metadata": {},
   "source": [
    "***\n",
    "***\n",
    "***"
   ]
  },
  {
   "cell_type": "markdown",
   "metadata": {},
   "source": [
    "# Problem Statement 4:"
   ]
  },
  {
   "cell_type": "markdown",
   "metadata": {},
   "source": [
    "Let the continuous random variable D denote the diameter of the hole drilled in an aluminum sheet.\n",
    "\n",
    "The target diameter to be achieved is 12.5 mm.\n",
    "\n",
    "Random disturbances in the process often result in inaccuracy.\n",
    "\n",
    "Historical data shows that the distribution of D can be modelled by the \n",
    "\n",
    "PDF(d) = $ 20 e ^{-20 (d - 12.5)} $, d ≥ 12.5.\n",
    "\n",
    "If a part with diameter > 12.6 mm needs to be scrapped, what is the proportion of those parts? \n",
    "\n",
    "What is the CDF when the diameter is of 11 mm? \n",
    "\n",
    "What is your conclusion regarding the proportion of scraps?"
   ]
  },
  {
   "cell_type": "markdown",
   "metadata": {},
   "source": [
    "### If a part with diameter > 12.6 mm needs to be scrapped, what is the proportion of those parts?\n",
    "\n",
    "The propotion of the part will be\n",
    "\n",
    "$ \\int_{12.6} ^{\\infty} 20 e ^{-20 (d - 12.5)} $\n",
    "\n",
    "\n",
    "$ \\int 20 e ^{-20 (d - 12.5)} = 20 e ^{250} \\int e ^ {-20d} = 20 * e ^{250} * \\frac {1}{-20} * e ^{-20d} + C = - e ^{250} * e ^{-20d} + C $\n",
    "\n",
    "therefore \n",
    "\n",
    "\n",
    "\n",
    "$ \\int_{12.6} ^{\\infty} 20 e ^{-20 (d - 12.5)}  = (- e ^{250} * e ^{-20 * \\infty }) - (- e ^{250} * e ^{-20 * 12.6}) = (e ^{250} * e ^{-20 * 12.6}) - (e ^{250} * e ^{-20 * \\infty })$\n",
    "\n",
    "\n",
    "$ = e ^{250} * e ^ {-250} $\n",
    "\n",
    "$ = e ^ {-2} $\n",
    "\n",
    "$ = 0.13533528323 $\n",
    "\n",
    "**The answer is 0.13533528323**"
   ]
  },
  {
   "cell_type": "markdown",
   "metadata": {},
   "source": [
    "### What is the CDF when the diameter is of 11 mm?\n",
    "\n",
    "The PDF(d) = $ 20 e ^{-20 (d - 12.5)} $ is applicable for d ≥ 12.5\n",
    "\n",
    "Therefore the PDF(d) for any d less than 12.5 is 0\n",
    "\n",
    "**Since 11 is less than 12.5, the CDF when diameter is of 11mm is 0**"
   ]
  },
  {
   "cell_type": "markdown",
   "metadata": {},
   "source": [
    "### What is your conclusion regarding the proportion of scraps?\n",
    "\n",
    "0.13533528323 of the drilled items have to be scrapped because it they will have diameter over 12.6, which is unacceptable.\n",
    "\n",
    "(1 - 0.13533528323), i.e 0.86466471677 of the drilled items will have diameter between 12.5 and 12.6 which is acceptable"
   ]
  },
  {
   "cell_type": "markdown",
   "metadata": {},
   "source": [
    "***\n",
    "***\n",
    "***"
   ]
  },
  {
   "cell_type": "markdown",
   "metadata": {},
   "source": [
    "# Problem Statement 5:"
   ]
  },
  {
   "cell_type": "markdown",
   "metadata": {},
   "source": [
    "A company manufactures LED bulbs with a faulty rate of 30%.\n",
    "\n",
    "If I randomly select 6 chosen LEDs, what is the probability of having 2 faulty LEDs in my sample?\n",
    "\n",
    "Calculate the average value of this process. \n",
    "\n",
    "Also evaluate the standard deviation associated with it."
   ]
  },
  {
   "cell_type": "markdown",
   "metadata": {},
   "source": [
    "***\n",
    "### Solution, option 1 - by hand\n",
    "\n",
    "probability of 'success', ie faulty\n",
    "\n",
    "p = 0.3\n",
    "\n",
    "probability of 'failure', ie not faulty\n",
    "\n",
    "q = 1 - p = 1 - 0.3 = 0.7\n",
    "\n",
    "This is a binomial distribution (assuming large number of LED's to choose, since we are not replacing LED, and the probability remains same for each trial)\n",
    "\n",
    "n = number of trials = 6\n",
    "\n",
    "The probability distribution of a binomial distribution is\n",
    "\n",
    "$ P(X=r) = \\binom{n}{r} p ^r q^{(n-r)} $\n",
    "\n",
    "$ P(2) = \\frac{6!}{4! 2!} (0.3) ^{2} (0.7) ^{4} $\n",
    "\n",
    "$ = \\frac{6 * 5}{2} (0.09) (0.24) $\n",
    "\n",
    "= 15 * 0.09 * 0.24\n",
    "\n",
    "= .3241\n",
    "\n",
    "**Therefore the probability of having 2 faulty LED's is 0.3241**\n",
    "\n",
    "\n",
    "The expectation (ie, mean) E(X) = np\n",
    "\n",
    "**E(X) = 6 * 0.3 = 1.8**\n",
    "\n",
    "The variance Var(X) = npq\n",
    "\n",
    "**Var(X) = 6 * 0.3 * 0.7 = 1.26**\n",
    "***"
   ]
  },
  {
   "cell_type": "markdown",
   "metadata": {},
   "source": [
    "### Solution, option 2 - Using scipy"
   ]
  },
  {
   "cell_type": "code",
   "execution_count": 21,
   "metadata": {},
   "outputs": [
    {
     "name": "stdout",
     "output_type": "stream",
     "text": [
      "The probability of 2 faulty LEDs from a sample of 6 is 0.32413499999999995\n",
      "The expectation is 1.7999999999999998\n",
      "The variance is 1.2599999999999998\n"
     ]
    }
   ],
   "source": [
    "print(f\"The probability of 2 faulty LEDs from a sample of 6 is {binom.pmf(k=2,n=6,p=0.3)}\")\n",
    "\n",
    "expectation, variance = binom.stats(n=6, p=0.3)\n",
    "\n",
    "print(f\"The expectation is {expectation}\")\n",
    "print(f\"The variance is {variance}\")"
   ]
  },
  {
   "cell_type": "markdown",
   "metadata": {},
   "source": [
    "***\n",
    "***\n",
    "***"
   ]
  },
  {
   "cell_type": "markdown",
   "metadata": {},
   "source": [
    "# Problem Statement 6:"
   ]
  },
  {
   "cell_type": "markdown",
   "metadata": {},
   "source": [
    "Gaurav and Barakha are both preparing for entrance exams. \n",
    "\n",
    "Gaurav attempts to solve 8 questions per day with a correction rate of 75%, while Barakha averages around 12 questions per day with a correction rate of 45%. \n",
    "\n",
    "What is the probability that each of them will solve 5 questions correctly? \n",
    "\n",
    "What happens in cases of 4 and 6 correct solutions? \n",
    "\n",
    "What do you infer from it? \n",
    "\n",
    "What are the two main governing factors affecting their ability to solve questions correctly? \n",
    "\n",
    "Give a pictorial representation of the same to validate your answer."
   ]
  },
  {
   "cell_type": "markdown",
   "metadata": {},
   "source": [
    "### What is the probability that each of them will solve 5 questions correctly?"
   ]
  },
  {
   "cell_type": "code",
   "execution_count": 22,
   "metadata": {},
   "outputs": [
    {
     "name": "stdout",
     "output_type": "stream",
     "text": [
      "The probability that each of them will solve 5 questions correctly = 0.046199890572992175\n"
     ]
    }
   ],
   "source": [
    "gaurav_5_correct = binomial_probability(8, 5, 0.75)\n",
    "\n",
    "bharka_5_correct = binomial_probability(12, 5, 0.45)\n",
    "\n",
    "print(f\"The probability that each of them will solve 5 questions correctly = {gaurav_5_correct * bharka_5_correct}\")"
   ]
  },
  {
   "cell_type": "markdown",
   "metadata": {},
   "source": [
    "### What happens in cases of Gaurav solves 4 and Bharka solves 6 correctly?"
   ]
  },
  {
   "cell_type": "code",
   "execution_count": 23,
   "metadata": {},
   "outputs": [
    {
     "name": "stdout",
     "output_type": "stream",
     "text": [
      "The probability that Gaurav will solve 4 questions and Bharka 6 questions correctly = 0.018374956477894614\n"
     ]
    }
   ],
   "source": [
    "gaurav_4_correct = binomial_probability(8, 4, 0.75)\n",
    "\n",
    "bharka_6_correct = binomial_probability(12, 6, 0.45)\n",
    "\n",
    "print(\"The probability that Gaurav will solve 4 questions and Bharka 6 questions correctly = \"\n",
    "      f\"{gaurav_4_correct * bharka_6_correct}\")"
   ]
  },
  {
   "cell_type": "markdown",
   "metadata": {},
   "source": [
    "### What is the probability that each of them will solve 4 questions correctly?"
   ]
  },
  {
   "cell_type": "code",
   "execution_count": 24,
   "metadata": {},
   "outputs": [
    {
     "name": "stdout",
     "output_type": "stream",
     "text": [
      "The probability that both Gaurav and Bharka solve 4 questions correctly = 0.014704826281913018\n"
     ]
    }
   ],
   "source": [
    "gaurav_4_correct = binomial_probability(8, 4, 0.75)\n",
    "\n",
    "bharka_4_correct = binomial_probability(12, 4, 0.45)\n",
    "\n",
    "print(\"The probability that both Gaurav and Bharka solve 4 questions correctly = \"\n",
    "      f\"{gaurav_4_correct * bharka_4_correct}\")"
   ]
  },
  {
   "cell_type": "markdown",
   "metadata": {},
   "source": [
    "### What is the probability that each of them will solve 6 questions correctly?"
   ]
  },
  {
   "cell_type": "code",
   "execution_count": 25,
   "metadata": {},
   "outputs": [
    {
     "name": "stdout",
     "output_type": "stream",
     "text": [
      "The probability that both Gaurav and Bharka solve 6 questions correctly = 0.0661498433204206\n"
     ]
    }
   ],
   "source": [
    "gaurav_6_correct = binomial_probability(8, 6, 0.75)\n",
    "\n",
    "bharka_6_correct = binomial_probability(12, 6, 0.45)\n",
    "\n",
    "print(\"The probability that both Gaurav and Bharka solve 6 questions correctly = \"\n",
    "      f\"{gaurav_6_correct * bharka_6_correct}\")"
   ]
  },
  {
   "cell_type": "markdown",
   "metadata": {},
   "source": [
    "***\n",
    "\n",
    "### What do you infer from it?"
   ]
  },
  {
   "cell_type": "markdown",
   "metadata": {},
   "source": [
    "Gaurav averages 8 questions per day with a correction rate of 75%, while Barakha averages around 12 questions per day with a correction rate of 45%.\n",
    "\n",
    "So expectation of correct answer for Gaurav is 75 % of 8, which is 6\n",
    "\n",
    "and expectation of correct answer for Barkha is 45 % of 12, which is 5.8 (which is closer to 6)\n",
    "\n",
    "\n",
    "We got the following probabilities\n",
    "\n",
    "The probability that each of them will solve 6 questions correctly = 0.0661498433204206\n",
    "The probability that each of them will solve 5 questions correctly = 0.046199890572992175\n",
    "The probability that each of them will solve 4 questions correctly = 0.014704826281913018\n",
    "\n",
    "So probability that they will solve 6 questions > solving 5 questions > solving 4 questions"
   ]
  },
  {
   "cell_type": "markdown",
   "metadata": {},
   "source": [
    "***\n",
    "\n",
    "### What are the two main governing factors affecting their ability to solve questions correctly?"
   ]
  },
  {
   "cell_type": "markdown",
   "metadata": {},
   "source": [
    "1) the correction rate - higher the correction rate, more they will answer questions correctly\n",
    "2) the number of questions being attempted - more questions they attempt, more they will answer correctly"
   ]
  },
  {
   "cell_type": "markdown",
   "metadata": {},
   "source": [
    "***\n",
    "\n",
    "### Give a pictorial representation of the same to validate your answer."
   ]
  },
  {
   "cell_type": "code",
   "execution_count": 26,
   "metadata": {},
   "outputs": [
    {
     "data": {
      "text/plain": [
       "<seaborn.axisgrid.FacetGrid at 0x7fb9056ac710>"
      ]
     },
     "execution_count": 26,
     "metadata": {},
     "output_type": "execute_result"
    },
    {
     "data": {
      "image/png": "[encoded data removed]",
      "text/plain": [
       "<Figure size 360x360 with 1 Axes>"
      ]
     },
     "metadata": {
      "needs_background": "light"
     },
     "output_type": "display_data"
    },
    {
     "data": {
      "image/png": "[encoded data removed]",
      "text/plain": [
       "<Figure size 360x360 with 1 Axes>"
      ]
     },
     "metadata": {
      "needs_background": "light"
     },
     "output_type": "display_data"
    }
   ],
   "source": [
    "gaurav_data = np.random.binomial(n=8,  p=0.75, size=1000)\n",
    "bharka_data = np.random.binomial(n=12, p=0.45, size=1000)\n",
    "\n",
    "sns.displot(gaurav_data, stat=\"density\", color='blue')\n",
    "sns.displot(bharka_data, stat=\"density\", color='red')"
   ]
  },
  {
   "cell_type": "markdown",
   "metadata": {},
   "source": [
    "***\n",
    "***\n",
    "***"
   ]
  },
  {
   "cell_type": "markdown",
   "metadata": {},
   "source": [
    "# Problem Statement 7:"
   ]
  },
  {
   "cell_type": "markdown",
   "metadata": {},
   "source": [
    "Customers arrive at a rate of 72 per hour to my shop. \n",
    "\n",
    "What is the probability of k customers arriving in 4 minutes? \n",
    "\n",
    "a) 5 customers,\n",
    "\n",
    "b) not more than 3 customers,\n",
    "\n",
    "c) more than 3 customers. \n",
    "\n",
    "Give a pictorial representation of the same to validate your answer."
   ]
  },
  {
   "cell_type": "markdown",
   "metadata": {},
   "source": [
    "### Solution\n",
    "\n",
    "Rate of arrival of customers = 72 per hour = 72 per 60 minutes = 1.2 customer per minute\n",
    "\n",
    "$\\lambda $ is the Poisson Process Rate or the mean number of occurances of the event per unit time.\n",
    "\n",
    "$\\lambda = 1.2 $\n",
    "\n",
    "$\\mu $ is the the mean number of occurances of the event in the specified time.\n",
    "\n",
    "$ \\mu = 1.2 * 4 = 4.8 $\n",
    "\n",
    "This is a Poisson distribution with mean number of successes ($\\mu\\$) that occurs in the specified region\n",
    "\n",
    "$ P(X = x| \\mu) = \\frac {e ^ {-\\mu} (\\mu ^{x})} {x!} $"
   ]
  },
  {
   "cell_type": "code",
   "execution_count": 27,
   "metadata": {},
   "outputs": [],
   "source": [
    "customers_per_hour = 72\n",
    "\n",
    "process_rate = 72 / 60 # customers per minute\n",
    "\n",
    "required_time = 4 # minutes\n",
    "\n",
    "mean = process_rate * required_time"
   ]
  },
  {
   "cell_type": "code",
   "execution_count": 28,
   "metadata": {},
   "outputs": [
    {
     "name": "stdout",
     "output_type": "stream",
     "text": [
      "Using basic Python - Probability of 5 customers arriving in 4 minutes = 0.17474768364388282\n",
      "\n",
      "Using Scipy - Probability of 5 customers arriving in 4 minutes = 0.17474768364388296\n"
     ]
    }
   ],
   "source": [
    "# a) 5 customers,\n",
    "\n",
    "print(f\"Using basic Python - Probability of 5 customers arriving in 4 minutes = {poisson_probability(mean, 5)}\")\n",
    "\n",
    "# Using Scipy\n",
    "print(f\"\\nUsing Scipy - Probability of 5 customers arriving in 4 minutes = {poisson.pmf(5, mean)}\")"
   ]
  },
  {
   "cell_type": "code",
   "execution_count": 29,
   "metadata": {},
   "outputs": [
    {
     "name": "stdout",
     "output_type": "stream",
     "text": [
      "Using basic Python - Probability of not more than 3 customers arriving in 4 minutes = 0.2942299164965641\n",
      "\n",
      "Using Scipy - Probability of not more than 3 customers arriving in 4 minutes = 0.2942299164965642\n"
     ]
    }
   ],
   "source": [
    "# b) not more than 3 customers\n",
    "\n",
    "p_0 = poisson_probability(mean, 0)\n",
    "p_1 = poisson_probability(mean, 1)\n",
    "p_2 = poisson_probability(mean, 2)\n",
    "p_3 = poisson_probability(mean, 3)\n",
    "\n",
    "p_not_more_than_3 = p_0 + p_1 + p_2 + p_3\n",
    "\n",
    "print(f\"Using basic Python - Probability of not more than 3 customers arriving in 4 minutes = {p_not_more_than_3}\")\n",
    "\n",
    "# Using Scipy\n",
    "print(f\"\\nUsing Scipy - Probability of not more than 3 customers arriving in 4 minutes = {poisson.cdf(3, mean)}\")"
   ]
  },
  {
   "cell_type": "code",
   "execution_count": 30,
   "metadata": {},
   "outputs": [
    {
     "name": "stdout",
     "output_type": "stream",
     "text": [
      "Using basic Python - Probability of more than 3 customers arriving in 4 minutes = 0.705770083503436\n",
      "\n",
      "Using Scipy - Probability of more than 3 customers arriving in 4 minutes = 0.7057700835034357\n"
     ]
    }
   ],
   "source": [
    "# c) more than 3 customers. \n",
    "\n",
    "p_0 = poisson_probability(mean, 0)\n",
    "p_1 = poisson_probability(mean, 1)\n",
    "p_2 = poisson_probability(mean, 2)\n",
    "p_3 = poisson_probability(mean, 3)\n",
    "\n",
    "p_more_than_3 = 1 - (p_0 + p_1 + p_2 + p_3)\n",
    "\n",
    "print(f\"Using basic Python - Probability of more than 3 customers arriving in 4 minutes = {p_more_than_3}\")\n",
    "\n",
    "# Using Scipy\n",
    "print(f\"\\nUsing Scipy - Probability of more than 3 customers arriving in 4 minutes = {1 - poisson.cdf(3, mean)}\")"
   ]
  },
  {
   "cell_type": "code",
   "execution_count": 31,
   "metadata": {},
   "outputs": [
    {
     "data": {
      "text/plain": [
       "<seaborn.axisgrid.FacetGrid at 0x7fb90151da90>"
      ]
     },
     "execution_count": 31,
     "metadata": {},
     "output_type": "execute_result"
    },
    {
     "data": {
      "image/png": "[encoded data removed]",
      "text/plain": [
       "<Figure size 360x360 with 1 Axes>"
      ]
     },
     "metadata": {
      "needs_background": "light"
     },
     "output_type": "display_data"
    },
    {
     "data": {
      "image/png": "[encoded data removed]",
      "text/plain": [
       "<Figure size 360x360 with 1 Axes>"
      ]
     },
     "metadata": {
      "needs_background": "light"
     },
     "output_type": "display_data"
    }
   ],
   "source": [
    "r = poisson.rvs(mean, size=1000)\n",
    "\n",
    "sns.displot(r, stat=\"density\")\n",
    "sns.displot(r, kind=\"kde\")"
   ]
  },
  {
   "cell_type": "markdown",
   "metadata": {},
   "source": [
    "The mean is 4.8. From the figure, the highest density is for the bin 4.\n",
    "\n",
    "If we look at the density graph, it is skewed to the right. The area of the curve from 0 to 3 is less then the area from 3 to 14."
   ]
  },
  {
   "cell_type": "markdown",
   "metadata": {},
   "source": [
    "***\n",
    "***\n",
    "***"
   ]
  },
  {
   "cell_type": "markdown",
   "metadata": {},
   "source": [
    "# Problem Statement 8:"
   ]
  },
  {
   "cell_type": "markdown",
   "metadata": {},
   "source": [
    "I work as a data analyst in Aeon Learning Pvt. Ltd. \n",
    "\n",
    "After analyzing data, I make reports, where I have the efficiency of entering 77 words per minute with 6 errors per hour. \n",
    "\n",
    "What is the probability that I will commit 2 errors in a 455-word financial report?\n",
    "\n",
    "What happens when the no. of words increases/decreases (in case of 1000 words, 255 words)?\n",
    "\n",
    "How is the λ affected?\n",
    "\n",
    "How does it influence the PMF?\n",
    "\n",
    "Give a pictorial representation of the same to validate your answer."
   ]
  },
  {
   "cell_type": "code",
   "execution_count": 32,
   "metadata": {},
   "outputs": [
    {
     "name": "stdout",
     "output_type": "stream",
     "text": [
      "Errors per 100 words : 0.12987012987012986\n"
     ]
    }
   ],
   "source": [
    "# This is a Poisson Distribution\n",
    "\n",
    "words_per_minute = 77\n",
    "errors_per_hour = 6\n",
    "errors_per_minute = 6 / 60\n",
    "errors_per_word = errors_per_minute / words_per_minute\n",
    "\n",
    "print(f\"Errors per 100 words : {errors_per_word * 100}\")"
   ]
  },
  {
   "cell_type": "markdown",
   "metadata": {},
   "source": [
    "### What is the probability of 2 errors in a 455-word financial report?"
   ]
  },
  {
   "cell_type": "code",
   "execution_count": 33,
   "metadata": {},
   "outputs": [
    {
     "name": "stdout",
     "output_type": "stream",
     "text": [
      "Using basic Python - Probability of 2 errors in a 455 word report = 0.09669027375144446\n",
      "\n",
      "Using Scipy - Probability of 2 errors in a 455 word report = 0.09669027375144444\n"
     ]
    }
   ],
   "source": [
    "mean = errors_per_word * 455\n",
    "\n",
    "print(f\"Using basic Python - Probability of 2 errors in a 455 word report = {poisson_probability(mean, 2)}\")\n",
    "\n",
    "# Using Scipy\n",
    "print(f\"\\nUsing Scipy - Probability of 2 errors in a 455 word report = {poisson.pmf(2, mean)}\")"
   ]
  },
  {
   "cell_type": "markdown",
   "metadata": {},
   "source": [
    "### What is the probability of 2 errors in a 1000-word financial report?"
   ]
  },
  {
   "cell_type": "code",
   "execution_count": 34,
   "metadata": {},
   "outputs": [
    {
     "name": "stdout",
     "output_type": "stream",
     "text": [
      "Using basic Python - Probability of 2 errors in a 455 word report = 0.23012815007300153\n",
      "\n",
      "Using Scipy - Probability of 2 errors in a 455 word report = 0.23012815007300153\n"
     ]
    }
   ],
   "source": [
    "mean = errors_per_word * 1000\n",
    "\n",
    "print(f\"Using basic Python - Probability of 2 errors in a 455 word report = {poisson_probability(mean, 2)}\")\n",
    "\n",
    "# Using Scipy\n",
    "print(f\"\\nUsing Scipy - Probability of 2 errors in a 455 word report = {poisson.pmf(2, mean)}\")"
   ]
  },
  {
   "cell_type": "markdown",
   "metadata": {},
   "source": [
    "### What is the probability of 2 errors in a 255-word financial report?"
   ]
  },
  {
   "cell_type": "code",
   "execution_count": 35,
   "metadata": {},
   "outputs": [
    {
     "name": "stdout",
     "output_type": "stream",
     "text": [
      "Using basic Python - Probability of 2 errors in a 455 word report = 0.039377135392854104\n",
      "\n",
      "Using Scipy - Probability of 2 errors in a 455 word report = 0.039377135392854104\n"
     ]
    }
   ],
   "source": [
    "mean = errors_per_word * 255\n",
    "\n",
    "print(f\"Using basic Python - Probability of 2 errors in a 455 word report = {poisson_probability(mean, 2)}\")\n",
    "\n",
    "# Using Scipy\n",
    "print(f\"\\nUsing Scipy - Probability of 2 errors in a 455 word report = {poisson.pmf(2, mean)}\")"
   ]
  },
  {
   "cell_type": "markdown",
   "metadata": {},
   "source": [
    "### How is the λ  affected?\n",
    "\n"
   ]
  },
  {
   "cell_type": "markdown",
   "metadata": {},
   "source": [
    "The λ remains same ie, 6 errors per hour OR (6 / (60 *77) errors per word"
   ]
  },
  {
   "cell_type": "markdown",
   "metadata": {},
   "source": [
    "### How does it influence the PMF?\n",
    "\n"
   ]
  },
  {
   "cell_type": "markdown",
   "metadata": {},
   "source": [
    "$\\lambda $ is the Poisson Process Rate or the mean number of occurances of the event per unit time / space etc.\n",
    "\n",
    "$\\mu $ is the the mean number of occurances of the event in the specified time/ space etc.\n",
    "\n",
    "$ \\mu = \\lambda $ * (number of words in the report)\n",
    "\n",
    "\n",
    "The probablity mass function of Poisson Distribution is given by\n",
    "\n",
    "$ P(X = x| \\mu) = \\frac {e ^ {-\\mu} (\\mu ^{x})} {x!} $"
   ]
  },
  {
   "cell_type": "markdown",
   "metadata": {},
   "source": [
    "### Give a pictorial representation of the same to validate your answer."
   ]
  },
  {
   "cell_type": "code",
   "execution_count": 36,
   "metadata": {},
   "outputs": [],
   "source": [
    "## TO DO"
   ]
  },
  {
   "cell_type": "markdown",
   "metadata": {},
   "source": [
    "***\n",
    "***\n",
    "***"
   ]
  },
  {
   "cell_type": "markdown",
   "metadata": {},
   "source": [
    "# Problem Statement 9:"
   ]
  },
  {
   "cell_type": "markdown",
   "metadata": {},
   "source": [
    "Let the continuous random variable D denote the diameter of the hole drilled in an\n",
    "aluminum sheet. The target diameter to be achieved is 12.5mm. Random\n",
    "disturbances in the process often result in inaccuracy.\n",
    "Historical data shows that the distribution of D can be modelled by the PDF, f(d) =\n",
    "20e−20(d−12.5), d ≥ 12.5. If a part with diameter > 12.6 mm needs to be scrapped,\n",
    "what is the proportion of those parts? What is the CDF when the diameter is of 11\n",
    "mm?\n",
    "What is the conclusion of this experiment?"
   ]
  },
  {
   "cell_type": "markdown",
   "metadata": {},
   "source": [
    "<h2 style=\"color:red;\">Isn't this problem same as Problem Statement 4?</h2>"
   ]
  },
  {
   "cell_type": "markdown",
   "metadata": {},
   "source": [
    "***\n",
    "***\n",
    "***"
   ]
  },
  {
   "cell_type": "markdown",
   "metadata": {},
   "source": [
    "# Problem Statement 10:"
   ]
  },
  {
   "cell_type": "markdown",
   "metadata": {},
   "source": [
    "Please compute the following:\n",
    "\n",
    "a) P(Z > 1.26), P(Z < −0.86), P(Z > −1.37), P(−1.25 < Z < 0.37), P(Z ≤ −4.6)\n",
    "\n",
    "b) Find the value z such that P(Z > z) = 0.05\n",
    "\n",
    "c) Find the value of z such that P(−z < Z < z) = 0.99"
   ]
  },
  {
   "cell_type": "markdown",
   "metadata": {},
   "source": [
    "# Option 1 - Using z tables, followed by Option 2 - Using scipy"
   ]
  },
  {
   "cell_type": "markdown",
   "metadata": {},
   "source": [
    "### a.1) P(Z > 1.26)\n",
    "\n",
    "from z table, value of 1.26 is .8962\n",
    "\n",
    "**so P(Z > 1.26) = 1 - .8962 = .1038**\n",
    "\n",
    "****"
   ]
  },
  {
   "cell_type": "code",
   "execution_count": 37,
   "metadata": {},
   "outputs": [
    {
     "name": "stdout",
     "output_type": "stream",
     "text": [
      "P(Z > 1.26) = 0.10383468112130045\n"
     ]
    }
   ],
   "source": [
    "print(f\"P(Z > 1.26) = {1 - stats.norm.cdf(1.26)}\")"
   ]
  },
  {
   "cell_type": "markdown",
   "metadata": {},
   "source": [
    "***"
   ]
  },
  {
   "cell_type": "markdown",
   "metadata": {},
   "source": [
    "### a.2) P(Z < −0.86)\n",
    "\n",
    "from z table, value of -0.86 is .1949\n",
    "\n",
    "**so P(Z < −0.86) is .1949**\n",
    "\n",
    "***"
   ]
  },
  {
   "cell_type": "code",
   "execution_count": 38,
   "metadata": {},
   "outputs": [
    {
     "name": "stdout",
     "output_type": "stream",
     "text": [
      "P(Z > −0.86) = 0.1948945212518084\n"
     ]
    }
   ],
   "source": [
    "print(f\"P(Z > −0.86) = {stats.norm.cdf(- 0.86)}\")"
   ]
  },
  {
   "cell_type": "markdown",
   "metadata": {},
   "source": [
    "***"
   ]
  },
  {
   "cell_type": "markdown",
   "metadata": {},
   "source": [
    "### a.3) P(Z > −1.37)\n",
    "\n",
    "from z table, value of 1.37 is .0853\n",
    "\n",
    "**so P(Z > −1.37) is 1 - .0853 = .9147**\n",
    "\n",
    "***"
   ]
  },
  {
   "cell_type": "code",
   "execution_count": 39,
   "metadata": {},
   "outputs": [
    {
     "name": "stdout",
     "output_type": "stream",
     "text": [
      "P(Z > -1.37) = 0.914656549178033\n"
     ]
    }
   ],
   "source": [
    "print(f\"P(Z > -1.37) = {1 - stats.norm.cdf(-1.37)}\")"
   ]
  },
  {
   "cell_type": "markdown",
   "metadata": {},
   "source": [
    "***"
   ]
  },
  {
   "cell_type": "markdown",
   "metadata": {},
   "source": [
    "### a.4) P(−1.25 < Z < 0.37)\n",
    "\n",
    "from z table, value of -1.25 is .1056\n",
    "from z table, value of 0.37 is .6443\n",
    "\n",
    "**So P(−1.25 < Z < 0.37) is .6443 - .1056 = .5387**\n",
    "\n",
    "***"
   ]
  },
  {
   "cell_type": "code",
   "execution_count": 40,
   "metadata": {},
   "outputs": [
    {
     "name": "stdout",
     "output_type": "stream",
     "text": [
      "P(−1.25 < Z < 0.37) = 0.5386589811336914\n"
     ]
    }
   ],
   "source": [
    "print(f\"P(−1.25 < Z < 0.37) = {stats.norm.cdf(0.37) - stats.norm.cdf(-1.25)}\")"
   ]
  },
  {
   "cell_type": "markdown",
   "metadata": {},
   "source": [
    "***"
   ]
  },
  {
   "cell_type": "markdown",
   "metadata": {},
   "source": [
    "### a.5) P(Z ≤ −4.6)\n",
    "\n",
    "from z table, the least z value is -3.49 which is .0002\n",
    "\n",
    "**so P(Z ≤ −4.6) is very close to 0**\n",
    "\n",
    "***"
   ]
  },
  {
   "cell_type": "code",
   "execution_count": 41,
   "metadata": {},
   "outputs": [
    {
     "name": "stdout",
     "output_type": "stream",
     "text": [
      "P(Z ≤ −4.6) = 2.1124547025028537e-06\n"
     ]
    }
   ],
   "source": [
    "print(f\"P(Z ≤ −4.6) = {stats.norm.cdf(-4.6)}\")"
   ]
  },
  {
   "cell_type": "markdown",
   "metadata": {},
   "source": [
    "***"
   ]
  },
  {
   "cell_type": "markdown",
   "metadata": {},
   "source": [
    "### b) Find the value z such that P(Z > z) = 0.05\n",
    "\n",
    "From Z table, P(-1.64) = .0505 and P(-1.65) = .0495\n",
    "\n",
    "**So value of z such that P(Z > z) = 0.05 is -1.645**\n",
    "\n",
    "***"
   ]
  },
  {
   "cell_type": "code",
   "execution_count": 42,
   "metadata": {},
   "outputs": [
    {
     "name": "stdout",
     "output_type": "stream",
     "text": [
      "value of z such that P(Z > z) = 0.05 is -1.6448536269514729\n"
     ]
    }
   ],
   "source": [
    "print(f\"value of z such that P(Z > z) = 0.05 is {stats.norm.ppf(0.05)}\")"
   ]
  },
  {
   "cell_type": "markdown",
   "metadata": {},
   "source": [
    "### c) Find the value of z such that P(−z < Z < z) = 0.99\n",
    "\n",
    "We need to find z such that its probability is (1 - 0.99) / 2 = 0.01 / 2 = 0.05\n",
    "\n",
    "From Z table, the value of -2.57 is .0051\n",
    "\n",
    "**value of z such that P(−z < Z < z) = 0.99 is -2.57**\n",
    "\n",
    "***"
   ]
  },
  {
   "cell_type": "code",
   "execution_count": 43,
   "metadata": {},
   "outputs": [
    {
     "name": "stdout",
     "output_type": "stream",
     "text": [
      "value of z such that P(−z < Z < z) = 0.99 is -2.5758293035489004\n"
     ]
    }
   ],
   "source": [
    "print(f\"value of z such that P(−z < Z < z) = 0.99 is {stats.norm.ppf((1 - 0.99)/ 2)}\")"
   ]
  },
  {
   "cell_type": "markdown",
   "metadata": {},
   "source": [
    "***\n",
    "***\n",
    "***"
   ]
  },
  {
   "cell_type": "markdown",
   "metadata": {},
   "source": [
    "# Problem Statement 11:"
   ]
  },
  {
   "cell_type": "markdown",
   "metadata": {},
   "source": [
    "The current flow in a copper wire follow a normal distribution with a mean of 10 mA and a variance of 4 $ (mA) ^{2} $.\n",
    "\n",
    "What is the probability that a current measurement will exceed 13 mA? \n",
    "\n",
    "What is the probability that a current measurement is between 9 and 11 mA? \n",
    "\n",
    "Determine the current measurement which has a probability of 0.98."
   ]
  },
  {
   "cell_type": "code",
   "execution_count": 44,
   "metadata": {},
   "outputs": [
    {
     "name": "stdout",
     "output_type": "stream",
     "text": [
      "Probability that a current measurement will exceed 13 mA = 0.06680720126885809\n",
      "\n",
      "Probability that a current measurement  is between 9 and 11 mA = 0.38292492254802624\n",
      "\n",
      "Since this is a continuous probability distribution, probability of a given value is 0. So we cannot find out 'the current measurement which has a probability of 0.98'\n",
      "\n",
      "Probability that a current measurement is below 14.107497821263646 mA = 0.98\n"
     ]
    }
   ],
   "source": [
    "mean = 10\n",
    "variance = 4\n",
    "std_deviation = variance ** 0.5\n",
    "\n",
    "z = (13 - mean) / std_deviation\n",
    "\n",
    "print(f\"Probability that a current measurement will exceed 13 mA = {1 - stats.norm.cdf(z)}\")\n",
    "\n",
    "z1 = (9 - mean) / std_deviation\n",
    "z2 = (11 - mean) / std_deviation\n",
    "\n",
    "print(f\"\\nProbability that a current measurement  is between 9 and 11 mA = {stats.norm.cdf(z2) - stats.norm.cdf(z1)}\")\n",
    "\n",
    "z3 = stats.norm.ppf(0.98)\n",
    "\n",
    "current = (z3 * std_deviation) + mean\n",
    "\n",
    "print(f\"\\nSince this is a continuous probability distribution, probability of a given value is 0. So we cannot find out 'the current measurement which has a probability of 0.98'\")\n",
    "\n",
    "print(f\"\\nProbability that a current measurement is below {current} mA = 0.98\")"
   ]
  },
  {
   "cell_type": "markdown",
   "metadata": {},
   "source": [
    "***\n",
    "***\n",
    "***"
   ]
  },
  {
   "cell_type": "markdown",
   "metadata": {},
   "source": [
    "# Problem Statement 12:"
   ]
  },
  {
   "cell_type": "markdown",
   "metadata": {},
   "source": [
    "The shaft in a piston has its diameter normally distributed with a mean of 0.2508 inch and a standard deviation of 0.0005 inch. \n",
    "\n",
    "The specifications of the shaft are 0.2500 ∓ 0.0015 inch. \n",
    "\n",
    "What proportion of shafts are in sync with the specifications? \n",
    "\n",
    "If the process is centered so that the mean is equal to the target value of 0.2500, what proportion of shafts conform to the new specifications? \n",
    "\n",
    "What is your conclusion from this experiment?"
   ]
  },
  {
   "cell_type": "markdown",
   "metadata": {},
   "source": [
    "***\n",
    "## What proportion of shafts are in sync with the specifications?"
   ]
  },
  {
   "cell_type": "code",
   "execution_count": 45,
   "metadata": {},
   "outputs": [
    {
     "name": "stdout",
     "output_type": "stream",
     "text": [
      "\n",
      "Proportion of shafts are in sync with the specifications = 0.91924122831152\n"
     ]
    }
   ],
   "source": [
    "mean = 0.2508\n",
    "std_deviation = 0.0005\n",
    "\n",
    "shaft_min = 0.25 - 0.0015\n",
    "shaft_max = 0.25 + 0.0015\n",
    "\n",
    "z_min = (shaft_min - mean) / std_deviation\n",
    "z_max = (shaft_max - mean) / std_deviation\n",
    "\n",
    "print(f\"\\nProportion of shafts are in sync with the specifications = {stats.norm.cdf(z_max) - stats.norm.cdf(z_min)}\")"
   ]
  },
  {
   "cell_type": "markdown",
   "metadata": {},
   "source": [
    "## If the process is centered so that the mean is equal to the target value of 0.2500, what proportion of shafts conform to the new specifications?\n"
   ]
  },
  {
   "cell_type": "code",
   "execution_count": 46,
   "metadata": {},
   "outputs": [
    {
     "name": "stdout",
     "output_type": "stream",
     "text": [
      "\n",
      "Proportion of shafts are in sync with the specifications = 0.9973002039367398\n"
     ]
    }
   ],
   "source": [
    "mean = 0.2500\n",
    "std_deviation = 0.0005\n",
    "\n",
    "shaft_min = 0.25 - 0.0015\n",
    "shaft_max = 0.25 + 0.0015\n",
    "\n",
    "z_min = (shaft_min - mean) / std_deviation\n",
    "z_max = (shaft_max - mean) / std_deviation\n",
    "\n",
    "print(f\"\\nProportion of shafts are in sync with the specifications = {stats.norm.cdf(z_max) - stats.norm.cdf(z_min)}\")"
   ]
  },
  {
   "cell_type": "markdown",
   "metadata": {},
   "source": [
    "## What is your conclusion from this experiment?\n",
    "mean = 0.2500\n",
    "std_deviation = 0.0005\n",
    "\n",
    "∓ 0.0015 inch therefore means 3 standard deviations from the mean.\n",
    "\n",
    "so 99.7% falls in between 3 standard deviations from the mean"
   ]
  }
 ],
 "metadata": {
  "kernelspec": {
   "display_name": "Python 3",
   "language": "python",
   "name": "python3"
  },
  "language_info": {
   "codemirror_mode": {
    "name": "ipython",
    "version": 3
   },
   "file_extension": ".py",
   "mimetype": "text/x-python",
   "name": "python",
   "nbconvert_exporter": "python",
   "pygments_lexer": "ipython3",
   "version": "3.7.9"
  }
 },
 "nbformat": 4,
 "nbformat_minor": 4
}
