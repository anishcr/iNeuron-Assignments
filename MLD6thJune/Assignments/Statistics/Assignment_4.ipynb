{
 "cells": [
  {
   "cell_type": "code",
   "execution_count": 1,
   "metadata": {},
   "outputs": [],
   "source": [
    "import numpy as np\n",
    "from scipy import stats"
   ]
  },
  {
   "cell_type": "markdown",
   "metadata": {},
   "source": [
    "### Problem Statement 1\n",
    "\n",
    "Is gender independent of education level? \n",
    "\n",
    "A random sample of 395 people were surveyed and each person was asked to report the highest education level they\n",
    "obtained. \n",
    "\n",
    "The data that resulted from the survey is summarized in the following table:\n",
    "\n",
    "|   |High School | Bachelors | Masters | Ph.d. | Total|\n",
    "|:-:|:----------:|:---------:|:-------:|:-----:|:----:|\n",
    "|female|60|54|46|41|201|\n",
    "|male|40|44|53|57|194|\n",
    "|total|100|98|99|98|395|\n",
    "\n",
    "Question: Are gender and education level dependent at 5% level of significance? \n",
    "\n",
    "In other words, given the data collected above, is there a relationship between the gender of an individual and the level of education that they have obtained?"
   ]
  },
  {
   "cell_type": "markdown",
   "metadata": {},
   "source": [
    "## Solution\n",
    "\n",
    "Hypothesis\n",
    "\n",
    "$H_{0}$ : There is no dependency between gender and education level\n",
    "\n",
    "$H_{1}$ : There is dependency between gender and education level"
   ]
  },
  {
   "cell_type": "markdown",
   "metadata": {},
   "source": [
    "## Observed results\n",
    "\n",
    "|   |High School | Bachelors | Masters | Ph.d. | Total|\n",
    "|:-:|:----------:|:---------:|:-------:|:-----:|:----:|\n",
    "|female|60|54|46|41|201|\n",
    "|male|40|44|53|57|194|\n",
    "|total|100|98|99|98|395|\n"
   ]
  },
  {
   "cell_type": "markdown",
   "metadata": {},
   "source": [
    "## Expected Results\n",
    "\n",
    "|   |High School | Bachelors | Masters | Ph.d. | Total|\n",
    "|:-:|:----------:|:---------:|:-------:|:-----:|:----:|\n",
    "|female|51|50|50|50|201|\n",
    "|male|49|48|49|48|194|\n",
    "|total|100|98|99|98|395|\n",
    "\n"
   ]
  },
  {
   "cell_type": "code",
   "execution_count": 4,
   "metadata": {},
   "outputs": [
    {
     "data": {
      "text/plain": [
       "7.8486604641856745"
      ]
     },
     "execution_count": 4,
     "metadata": {},
     "output_type": "execute_result"
    }
   ],
   "source": [
    "ch1 = ((60 - 51) ** 2) / 51\n",
    "ch2 = ((40 - 49) ** 2) / 49\n",
    "ch3 = ((54 - 50) ** 2) / 50\n",
    "ch4 = ((44 - 48) ** 2) / 48\n",
    "ch5 = ((46 - 50) ** 2) / 50\n",
    "ch6 = ((53 - 49) ** 2) / 49\n",
    "ch7 = ((41 - 50) ** 2) / 50\n",
    "ch8 = ((57 - 48) ** 2) / 48\n",
    "\n",
    "chi = ch1 + ch2 + ch3 + ch4 + ch5 + ch6 + ch7 + ch8\n",
    "\n",
    "chi"
   ]
  },
  {
   "cell_type": "markdown",
   "metadata": {},
   "source": [
    "Degrees of freedom = (2 - 1) * (4 - 1) = 3\n",
    "\n",
    "The value of $\\chi^{2}$ at 5% signifiance level for 3 degrees of freedom is 7.815.\n",
    "\n",
    "Since the calculated value of $\\chi^{2}$ is 7.848, which is greater than the critical value of 7.815, **we reject the null hypothesis**"
   ]
  },
  {
   "cell_type": "markdown",
   "metadata": {},
   "source": [
    "### Problem Statement 2\n",
    "\n",
    "Using the following data, perform a oneway analysis of variance using α=.05. Write\n",
    "up the results in APA format.\n",
    "\n",
    "[Group1: 51, 45, 33, 45, 67]\n",
    "\n",
    "[Group2: 23, 43, 23, 43, 45]\n",
    "\n",
    "[Group3: 56, 76, 74, 87, 56]"
   ]
  },
  {
   "cell_type": "code",
   "execution_count": null,
   "metadata": {},
   "outputs": [],
   "source": []
  },
  {
   "cell_type": "markdown",
   "metadata": {},
   "source": [
    "### Problem Statement 3\n",
    "\n",
    "Calculate F Test for given 10, 20, 30, 40, 50 and 5,10,15, 20, 25.\n",
    "\n",
    "For 10, 20, 30, 40, 50:"
   ]
  },
  {
   "cell_type": "code",
   "execution_count": null,
   "metadata": {},
   "outputs": [],
   "source": []
  }
 ],
 "metadata": {
  "kernelspec": {
   "display_name": "Python 3",
   "language": "python",
   "name": "python3"
  },
  "language_info": {
   "codemirror_mode": {
    "name": "ipython",
    "version": 3
   },
   "file_extension": ".py",
   "mimetype": "text/x-python",
   "name": "python",
   "nbconvert_exporter": "python",
   "pygments_lexer": "ipython3",
   "version": "3.7.7"
  }
 },
 "nbformat": 4,
 "nbformat_minor": 4
}
