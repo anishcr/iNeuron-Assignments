{
 "cells": [
  {
   "cell_type": "code",
   "execution_count": 1,
   "metadata": {},
   "outputs": [],
   "source": [
    "import numpy as np\n",
    "from scipy import stats"
   ]
  },
  {
   "cell_type": "markdown",
   "metadata": {},
   "source": [
    "### Problem Statement 1\n",
    "\n",
    "Is gender independent of education level? \n",
    "\n",
    "A random sample of 395 people were surveyed and each person was asked to report the highest education level they\n",
    "obtained. \n",
    "\n",
    "The data that resulted from the survey is summarized in the following table:\n",
    "\n",
    "|   |High School | Bachelors | Masters | Ph.d. | Total|\n",
    "|:-:|:----------:|:---------:|:-------:|:-----:|:----:|\n",
    "|female|60|54|46|41|201|\n",
    "|male|40|44|53|57|194|\n",
    "|total|100|98|99|98|395|\n",
    "\n",
    "Question: Are gender and education level dependent at 5% level of significance? \n",
    "\n",
    "In other words, given the data collected above, is there a relationship between the gender of an individual and the level of education that they have obtained?"
   ]
  },
  {
   "cell_type": "markdown",
   "metadata": {},
   "source": [
    "## Solution\n",
    "\n",
    "Hypothesis\n",
    "\n",
    "$H_{0}$ : There is no dependency between gender and education level\n",
    "\n",
    "$H_{1}$ : There is dependency between gender and education level"
   ]
  },
  {
   "cell_type": "markdown",
   "metadata": {},
   "source": [
    "## Observed results\n",
    "\n",
    "|   |High School | Bachelors | Masters | Ph.d. | Total|\n",
    "|:-:|:----------:|:---------:|:-------:|:-----:|:----:|\n",
    "|female|60|54|46|41|201|\n",
    "|male|40|44|53|57|194|\n",
    "|total|100|98|99|98|395|\n"
   ]
  },
  {
   "cell_type": "markdown",
   "metadata": {},
   "source": [
    "## Expected Results\n",
    "\n",
    "|   |High School | Bachelors | Masters | Ph.d. | Total|\n",
    "|:-:|:----------:|:---------:|:-------:|:-----:|:----:|\n",
    "|female|51|50|50|50|201|\n",
    "|male|49|48|49|48|194|\n",
    "|total|100|98|99|98|395|\n",
    "\n"
   ]
  },
  {
   "cell_type": "code",
   "execution_count": 2,
   "metadata": {},
   "outputs": [
    {
     "data": {
      "text/plain": [
       "7.8486604641856745"
      ]
     },
     "execution_count": 2,
     "metadata": {},
     "output_type": "execute_result"
    }
   ],
   "source": [
    "ch1 = ((60 - 51) ** 2) / 51\n",
    "ch2 = ((40 - 49) ** 2) / 49\n",
    "ch3 = ((54 - 50) ** 2) / 50\n",
    "ch4 = ((44 - 48) ** 2) / 48\n",
    "ch5 = ((46 - 50) ** 2) / 50\n",
    "ch6 = ((53 - 49) ** 2) / 49\n",
    "ch7 = ((41 - 50) ** 2) / 50\n",
    "ch8 = ((57 - 48) ** 2) / 48\n",
    "\n",
    "chi = ch1 + ch2 + ch3 + ch4 + ch5 + ch6 + ch7 + ch8\n",
    "\n",
    "chi"
   ]
  },
  {
   "cell_type": "markdown",
   "metadata": {},
   "source": [
    "Degrees of freedom = (2 - 1) * (4 - 1) = 3\n",
    "\n",
    "The value of $\\chi^{2}$ at 5% signifiance level for 3 degrees of freedom is 7.815.\n",
    "\n",
    "Since the calculated value of $\\chi^{2}$ is 7.848, which is greater than the critical value of 7.815, **we reject the null hypothesis**"
   ]
  },
  {
   "cell_type": "markdown",
   "metadata": {},
   "source": [
    "***\n",
    "***\n",
    "***\n",
    "### Problem Statement 2\n",
    "\n",
    "Using the following data, perform a one way analysis of variance using α=.05. Write\n",
    "up the results in APA format.\n",
    "\n",
    "[Group1: 51, 45, 33, 45, 67]\n",
    "\n",
    "[Group2: 23, 43, 23, 43, 45]\n",
    "\n",
    "[Group3: 56, 76, 74, 87, 56]"
   ]
  },
  {
   "cell_type": "markdown",
   "metadata": {},
   "source": [
    "### Solution\n",
    "\n",
    "Hypothesis\n",
    "\n",
    "$H_{0}$ : There is no significant difference between the three groups\n",
    "$H_{1}$ : There is significant difference between the three groups\n",
    "\n",
    "Significance level : 5%"
   ]
  },
  {
   "cell_type": "code",
   "execution_count": 3,
   "metadata": {},
   "outputs": [],
   "source": [
    "data_1 = np.array([51, 45, 33, 45, 67])\n",
    "data_2 = np.array([23, 43, 23, 43, 45])\n",
    "data_3 = np.array([56, 76, 74, 87, 56])\n",
    "\n",
    "mean_1             = np.mean(data_1)\n",
    "deviation_1        = data_1 - mean_1\n",
    "sq_deviation_1     = deviation_1 ** 2\n",
    "sum_sq_deviation_1 = sum(sq_deviation_1)\n",
    "\n",
    "mean_2             = np.mean(data_2)\n",
    "deviation_2        = data_2 - mean_2\n",
    "sq_deviation_2     = deviation_2 ** 2\n",
    "sum_sq_deviation_2 = sum(sq_deviation_2)\n",
    "\n",
    "mean_3             = np.mean(data_3)\n",
    "deviation_3        = data_3 - mean_3\n",
    "sq_deviation_3     = deviation_3 ** 2\n",
    "sum_sq_deviation_3 = sum(sq_deviation_3)\n",
    "\n",
    "mean_of_means = (mean_1 + mean_2 + mean_3) / 3\n",
    "\n",
    "ssc = len(data_1) * (((mean_1 - mean_of_means) ** 2) + ((mean_2 - mean_of_means) ** 2) + ((mean_3 - mean_of_means) ** 2))\n",
    "\n",
    "sse = sum_sq_deviation_1 + sum_sq_deviation_2 + sum_sq_deviation_3\n",
    "\n",
    "msc = ssc / 2  # columns = 3, so df = (3 - 1)\n",
    "mse = sse / 12 # number = 15, columns = 3, so df = (15 - 3)\n",
    "\n",
    "f_score = msc / mse"
   ]
  },
  {
   "cell_type": "markdown",
   "metadata": {},
   "source": [
    "The critical value of F for degree of freedom (2, 12) with 5% significance error is 3.89\n",
    "\n",
    "Since the calculated f score is 9.75, which is greater than 3.89, **we can reject the Null Hypothesis**"
   ]
  },
  {
   "cell_type": "markdown",
   "metadata": {},
   "source": [
    "***\n",
    "***\n",
    "***\n",
    "### Problem Statement 3\n",
    "\n",
    "Calculate F Test for given 10, 20, 30, 40, 50 and 5,10,15, 20, 25."
   ]
  },
  {
   "cell_type": "code",
   "execution_count": 4,
   "metadata": {},
   "outputs": [
    {
     "data": {
      "text/plain": [
       "250.0"
      ]
     },
     "execution_count": 4,
     "metadata": {},
     "output_type": "execute_result"
    }
   ],
   "source": [
    "## Solution\n",
    "\n",
    "data1 = np.array([10, 20, 30, 40, 50])\n",
    "\n",
    "var1 = np.var(data1, ddof=1)\n",
    "var1"
   ]
  },
  {
   "cell_type": "code",
   "execution_count": 5,
   "metadata": {},
   "outputs": [
    {
     "data": {
      "text/plain": [
       "62.5"
      ]
     },
     "execution_count": 5,
     "metadata": {},
     "output_type": "execute_result"
    }
   ],
   "source": [
    "data2 = np.array([5, 10, 15, 20, 25])\n",
    "\n",
    "var2 = np.var(data2, ddof=1)\n",
    "var2"
   ]
  },
  {
   "cell_type": "code",
   "execution_count": 6,
   "metadata": {},
   "outputs": [
    {
     "name": "stdout",
     "output_type": "stream",
     "text": [
      "The F test score = 4.0\n"
     ]
    }
   ],
   "source": [
    "# Use the larger variance as the numerator.\n",
    "\n",
    "f_test_score = var1 / var2\n",
    "\n",
    "print(f\"The F test score = {f_test_score}\")"
   ]
  }
 ],
 "metadata": {
  "kernelspec": {
   "display_name": "Python 3",
   "language": "python",
   "name": "python3"
  },
  "language_info": {
   "codemirror_mode": {
    "name": "ipython",
    "version": 3
   },
   "file_extension": ".py",
   "mimetype": "text/x-python",
   "name": "python",
   "nbconvert_exporter": "python",
   "pygments_lexer": "ipython3",
   "version": "3.7.9"
  }
 },
 "nbformat": 4,
 "nbformat_minor": 4
}
